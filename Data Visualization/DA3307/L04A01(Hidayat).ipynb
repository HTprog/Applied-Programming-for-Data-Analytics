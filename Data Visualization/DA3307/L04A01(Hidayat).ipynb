{
 "cells": [
  {
   "cell_type": "code",
   "execution_count": null,
   "id": "4dfe836e",
   "metadata": {},
   "outputs": [],
   "source": [
    "import pandas as pd"
   ]
  },
  {
   "cell_type": "code",
   "execution_count": null,
   "id": "a9322317",
   "metadata": {},
   "outputs": [],
   "source": [
    "df=pd.read_csv('pokemon_data.csv')\n",
    "df.head()"
   ]
  },
  {
   "cell_type": "code",
   "execution_count": null,
   "id": "6bc8ea38",
   "metadata": {},
   "outputs": [],
   "source": [
    "df.loc[df['Type 1']=='Grass']"
   ]
  },
  {
   "cell_type": "code",
   "execution_count": null,
   "id": "9dcc1108",
   "metadata": {},
   "outputs": [],
   "source": [
    "df.loc[(df['Type 1']=='Grass')&(df['Type 2']=='Poison')]"
   ]
  },
  {
   "cell_type": "code",
   "execution_count": null,
   "id": "633ca0b9",
   "metadata": {},
   "outputs": [],
   "source": [
    "df.loc[(df['Type 1']=='Fire')&(df['Type 2']=='Flying')&(df['Attack']>=90)]"
   ]
  },
  {
   "cell_type": "code",
   "execution_count": null,
   "id": "2732fa7d",
   "metadata": {},
   "outputs": [],
   "source": [
    "df.loc[(df['Type 1']=='Water')&(df['Type 2']=='Flying')&(df['Defense']>=80)]"
   ]
  },
  {
   "cell_type": "code",
   "execution_count": null,
   "id": "8f802284",
   "metadata": {},
   "outputs": [],
   "source": [
    "df.loc[df['Name'].str.contains('Mega')]"
   ]
  },
  {
   "cell_type": "code",
   "execution_count": null,
   "id": "b5a15c29",
   "metadata": {},
   "outputs": [],
   "source": [
    "df.loc[~df['Name'].str.contains('Mega')]"
   ]
  },
  {
   "cell_type": "code",
   "execution_count": null,
   "id": "cbefda5d",
   "metadata": {},
   "outputs": [],
   "source": [
    "import re\n",
    "df.loc[df['Name'].str.contains('pi', regex=True)]"
   ]
  },
  {
   "cell_type": "code",
   "execution_count": null,
   "id": "a032d9c5",
   "metadata": {},
   "outputs": [],
   "source": [
    "df.loc[df['Name'].str.contains('pi',flags=re.I, regex=True)]#no longer case-sensitive"
   ]
  },
  {
   "cell_type": "code",
   "execution_count": null,
   "id": "8d9aac0f",
   "metadata": {},
   "outputs": [],
   "source": [
    "df.loc[df['Name'].str.contains('^pi',flags=re.I, regex=True)]#starts with pi"
   ]
  },
  {
   "cell_type": "code",
   "execution_count": null,
   "id": "d28f5856",
   "metadata": {},
   "outputs": [],
   "source": [
    "df.loc[df['Name'].str.contains('ot$',flags=re.I, regex=True)]#end with 'ot'"
   ]
  },
  {
   "cell_type": "code",
   "execution_count": null,
   "id": "45c568e1",
   "metadata": {},
   "outputs": [],
   "source": [
    "df.loc[df['Name'].str.contains('^pi[a-zA-Z]',flags=re.I, regex=True)].reset_index()#small letters only"
   ]
  },
  {
   "cell_type": "code",
   "execution_count": null,
   "id": "08b0095b",
   "metadata": {},
   "outputs": [],
   "source": [
    "df=pd.read_csv('pokemon_data.csv')#Do this in test so changes made above dont carry over\n",
    "df.loc[df['Type 1']=='Normal', 'Type 1'] = 'unNormal'#changes normal types into unNormal\n",
    "\n",
    "\n",
    "df.loc[df['Name']=='Pidgey']"
   ]
  },
  {
   "cell_type": "code",
   "execution_count": null,
   "id": "097aa3a1",
   "metadata": {},
   "outputs": [],
   "source": [
    "df.loc[df['Type 1']=='unNormal', 'Type 1'] = 'Normal'#changes it back\n",
    "\n",
    "\n",
    "df.loc[df['Name']=='Pidgey']"
   ]
  },
  {
   "cell_type": "code",
   "execution_count": null,
   "id": "01e41a60",
   "metadata": {},
   "outputs": [],
   "source": [
    "df=pd.read_csv('pokemon_data.csv')\n",
    "df.loc[df['Attack']>100,['Generation','Legendary']] = ['Gen OP','Too OP']#to make changes in values in two saparate columns\n",
    "df"
   ]
  },
  {
   "cell_type": "code",
   "execution_count": null,
   "id": "96d96ef6",
   "metadata": {},
   "outputs": [],
   "source": [
    "df=pd.read_csv('pokemon_data.csv')"
   ]
  },
  {
   "cell_type": "code",
   "execution_count": null,
   "id": "13eb028d",
   "metadata": {},
   "outputs": [],
   "source": [
    "df.groupby(['Type 1']).mean().sort_values('Attack', ascending=False) #mean grouped by type 1"
   ]
  },
  {
   "cell_type": "code",
   "execution_count": null,
   "id": "e8526b7c",
   "metadata": {
    "scrolled": false
   },
   "outputs": [],
   "source": [
    "df.groupby(['Type 1']).sum()"
   ]
  },
  {
   "cell_type": "code",
   "execution_count": null,
   "id": "9b942a95",
   "metadata": {},
   "outputs": [],
   "source": [
    "df.groupby(['Type 2']).mean()#mean of each column grouped by type 2"
   ]
  },
  {
   "cell_type": "code",
   "execution_count": null,
   "id": "c12d48b2",
   "metadata": {},
   "outputs": [],
   "source": [
    "df=pd.read_csv('pokemon_data.csv')"
   ]
  },
  {
   "cell_type": "code",
   "execution_count": null,
   "id": "09850c30",
   "metadata": {},
   "outputs": [],
   "source": [
    "df['count']=1\n",
    "df.groupby(['Type 1','Type 2']).count()['count']"
   ]
  },
  {
   "cell_type": "code",
   "execution_count": null,
   "id": "99597b6f",
   "metadata": {},
   "outputs": [],
   "source": []
  }
 ],
 "metadata": {
  "kernelspec": {
   "display_name": "Python 3 (ipykernel)",
   "language": "python",
   "name": "python3"
  },
  "language_info": {
   "codemirror_mode": {
    "name": "ipython",
    "version": 3
   },
   "file_extension": ".py",
   "mimetype": "text/x-python",
   "name": "python",
   "nbconvert_exporter": "python",
   "pygments_lexer": "ipython3",
   "version": "3.9.7"
  }
 },
 "nbformat": 4,
 "nbformat_minor": 5
}
