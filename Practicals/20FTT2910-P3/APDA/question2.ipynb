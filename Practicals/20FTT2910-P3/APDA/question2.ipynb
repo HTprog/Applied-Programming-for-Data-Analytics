{
 "cells": [
  {
   "cell_type": "code",
   "execution_count": 119,
   "metadata": {},
   "outputs": [],
   "source": [
    "#Muhammad Hidayat Hidayat Bin Mohd Yusof\n",
    "#20FFTT2910\n",
    "#DA3304 APPLIED PROGRAMMING FOR DATA ANALYTICS\n",
    "import pandas as pd\n",
    "import re\n",
    "def CheckNum(string):\n",
    "    pattern='\\d{9}'\n",
    "    regex=re.compile(pattern,flags=re.IGNORECASE)\n",
    "    return bool(regex.search(string))\n",
    "\n",
    "def CheckAB(string):\n",
    "    pattern='^a.+b$'\n",
    "    regex=re.compile(pattern,flags=re.IGNORECASE)\n",
    "    return bool(regex.findall(string))\n",
    "\n",
    "def SplitDelimiter(string,delimiter):\n",
    "    pattern='['+delimiter+']'\n",
    "    regex=re.compile(pattern)\n",
    "    return regex.split(string)\n",
    "\n",
    "    \n",
    "\n",
    "list=['a1.txt','a2.txt','b1.txt','b2.txt','c1.txt','c2.txt']\n",
    "imp1=open(list[0])\n",
    "imp2=open(list[1])\n",
    "imp3=open(list[2])\n",
    "imp4=open(list[3])\n",
    "imp5=open(list[4])\n",
    "imp6=open(list[5])\n"
   ]
  },
  {
   "cell_type": "code",
   "execution_count": 46,
   "metadata": {},
   "outputs": [
    {
     "name": "stdout",
     "output_type": "stream",
     "text": [
      "123456789\n"
     ]
    },
    {
     "data": {
      "text/plain": [
       "True"
      ]
     },
     "execution_count": 46,
     "metadata": {},
     "output_type": "execute_result"
    }
   ],
   "source": [
    "#question 2 part a\n",
    "text1=imp1.read()\n",
    "print(text1)\n",
    "CheckNum(text1)"
   ]
  },
  {
   "cell_type": "code",
   "execution_count": 47,
   "metadata": {},
   "outputs": [
    {
     "name": "stdout",
     "output_type": "stream",
     "text": [
      "123man\n"
     ]
    },
    {
     "data": {
      "text/plain": [
       "False"
      ]
     },
     "execution_count": 47,
     "metadata": {},
     "output_type": "execute_result"
    }
   ],
   "source": [
    "#question 2 part a\n",
    "text2=imp2.read()\n",
    "print(text2)\n",
    "CheckNum(text2)"
   ]
  },
  {
   "cell_type": "code",
   "execution_count": 69,
   "metadata": {},
   "outputs": [
    {
     "name": "stdout",
     "output_type": "stream",
     "text": [
      "Absorb\n"
     ]
    },
    {
     "data": {
      "text/plain": [
       "True"
      ]
     },
     "execution_count": 69,
     "metadata": {},
     "output_type": "execute_result"
    }
   ],
   "source": [
    "#question 2 part b\n",
    "text3=imp3.read()\n",
    "print(text3)\n",
    "CheckAB(text3)"
   ]
  },
  {
   "cell_type": "code",
   "execution_count": 70,
   "metadata": {},
   "outputs": [
    {
     "name": "stdout",
     "output_type": "stream",
     "text": [
      "Apple\n"
     ]
    },
    {
     "data": {
      "text/plain": [
       "False"
      ]
     },
     "execution_count": 70,
     "metadata": {},
     "output_type": "execute_result"
    }
   ],
   "source": [
    "#question 2 part b\n",
    "text4=imp4.read()\n",
    "print(text4)\n",
    "CheckAB(text4)"
   ]
  },
  {
   "cell_type": "code",
   "execution_count": 120,
   "metadata": {},
   "outputs": [
    {
     "name": "stdout",
     "output_type": "stream",
     "text": [
      "My#Name\n"
     ]
    },
    {
     "data": {
      "text/plain": [
       "['My', 'Name']"
      ]
     },
     "execution_count": 120,
     "metadata": {},
     "output_type": "execute_result"
    }
   ],
   "source": [
    "#question 2 part 3\n",
    "text5=imp5.read()\n",
    "print(text5)\n",
    "SplitDelimiter(text5,'#')"
   ]
  },
  {
   "cell_type": "code",
   "execution_count": 121,
   "metadata": {},
   "outputs": [
    {
     "data": {
      "text/plain": [
       "['My#Name']"
      ]
     },
     "execution_count": 121,
     "metadata": {},
     "output_type": "execute_result"
    }
   ],
   "source": [
    "#question 2 part 3\n",
    "SplitDelimiter(text5,',')"
   ]
  },
  {
   "cell_type": "code",
   "execution_count": 122,
   "metadata": {},
   "outputs": [
    {
     "name": "stdout",
     "output_type": "stream",
     "text": [
      "My$Name\n"
     ]
    },
    {
     "data": {
      "text/plain": [
       "['My', 'Name']"
      ]
     },
     "execution_count": 122,
     "metadata": {},
     "output_type": "execute_result"
    }
   ],
   "source": [
    "#question 2 part 3\n",
    "text6=imp6.read()\n",
    "print(text6)\n",
    "SplitDelimiter(text6,'$')"
   ]
  }
 ],
 "metadata": {
  "interpreter": {
   "hash": "ecf5722fdaf1897a315d257d89d94520bfcaa453217d5becf09b39e73618b0de"
  },
  "kernelspec": {
   "display_name": "Python 3.9.7 ('base')",
   "language": "python",
   "name": "python3"
  },
  "language_info": {
   "codemirror_mode": {
    "name": "ipython",
    "version": 3
   },
   "file_extension": ".py",
   "mimetype": "text/x-python",
   "name": "python",
   "nbconvert_exporter": "python",
   "pygments_lexer": "ipython3",
   "version": "3.9.7"
  },
  "orig_nbformat": 4
 },
 "nbformat": 4,
 "nbformat_minor": 2
}
