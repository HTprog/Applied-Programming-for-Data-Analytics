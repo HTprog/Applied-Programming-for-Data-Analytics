{
 "cells": [
  {
   "cell_type": "code",
   "execution_count": 1,
   "metadata": {},
   "outputs": [
    {
     "data": {
      "text/html": [
       "<div>\n",
       "<style scoped>\n",
       "    .dataframe tbody tr th:only-of-type {\n",
       "        vertical-align: middle;\n",
       "    }\n",
       "\n",
       "    .dataframe tbody tr th {\n",
       "        vertical-align: top;\n",
       "    }\n",
       "\n",
       "    .dataframe thead th {\n",
       "        text-align: right;\n",
       "    }\n",
       "</style>\n",
       "<table border=\"1\" class=\"dataframe\">\n",
       "  <thead>\n",
       "    <tr style=\"text-align: right;\">\n",
       "      <th></th>\n",
       "      <th>User ID</th>\n",
       "      <th>Gender</th>\n",
       "      <th>Age</th>\n",
       "      <th>EstimatedSalary</th>\n",
       "    </tr>\n",
       "  </thead>\n",
       "  <tbody>\n",
       "    <tr>\n",
       "      <th>0</th>\n",
       "      <td>15624510</td>\n",
       "      <td>Male</td>\n",
       "      <td>19</td>\n",
       "      <td>19000</td>\n",
       "    </tr>\n",
       "    <tr>\n",
       "      <th>1</th>\n",
       "      <td>15810944</td>\n",
       "      <td>Male</td>\n",
       "      <td>35</td>\n",
       "      <td>20000</td>\n",
       "    </tr>\n",
       "    <tr>\n",
       "      <th>2</th>\n",
       "      <td>15668575</td>\n",
       "      <td>Female</td>\n",
       "      <td>26</td>\n",
       "      <td>43000</td>\n",
       "    </tr>\n",
       "    <tr>\n",
       "      <th>3</th>\n",
       "      <td>15603246</td>\n",
       "      <td>Female</td>\n",
       "      <td>27</td>\n",
       "      <td>57000</td>\n",
       "    </tr>\n",
       "    <tr>\n",
       "      <th>4</th>\n",
       "      <td>15804002</td>\n",
       "      <td>Male</td>\n",
       "      <td>19</td>\n",
       "      <td>76000</td>\n",
       "    </tr>\n",
       "    <tr>\n",
       "      <th>...</th>\n",
       "      <td>...</td>\n",
       "      <td>...</td>\n",
       "      <td>...</td>\n",
       "      <td>...</td>\n",
       "    </tr>\n",
       "    <tr>\n",
       "      <th>395</th>\n",
       "      <td>15691863</td>\n",
       "      <td>Female</td>\n",
       "      <td>46</td>\n",
       "      <td>41000</td>\n",
       "    </tr>\n",
       "    <tr>\n",
       "      <th>396</th>\n",
       "      <td>15706071</td>\n",
       "      <td>Male</td>\n",
       "      <td>51</td>\n",
       "      <td>23000</td>\n",
       "    </tr>\n",
       "    <tr>\n",
       "      <th>397</th>\n",
       "      <td>15654296</td>\n",
       "      <td>Female</td>\n",
       "      <td>50</td>\n",
       "      <td>20000</td>\n",
       "    </tr>\n",
       "    <tr>\n",
       "      <th>398</th>\n",
       "      <td>15755018</td>\n",
       "      <td>Male</td>\n",
       "      <td>36</td>\n",
       "      <td>33000</td>\n",
       "    </tr>\n",
       "    <tr>\n",
       "      <th>399</th>\n",
       "      <td>15594041</td>\n",
       "      <td>Female</td>\n",
       "      <td>49</td>\n",
       "      <td>36000</td>\n",
       "    </tr>\n",
       "  </tbody>\n",
       "</table>\n",
       "<p>400 rows × 4 columns</p>\n",
       "</div>"
      ],
      "text/plain": [
       "      User ID  Gender  Age  EstimatedSalary\n",
       "0    15624510    Male   19            19000\n",
       "1    15810944    Male   35            20000\n",
       "2    15668575  Female   26            43000\n",
       "3    15603246  Female   27            57000\n",
       "4    15804002    Male   19            76000\n",
       "..        ...     ...  ...              ...\n",
       "395  15691863  Female   46            41000\n",
       "396  15706071    Male   51            23000\n",
       "397  15654296  Female   50            20000\n",
       "398  15755018    Male   36            33000\n",
       "399  15594041  Female   49            36000\n",
       "\n",
       "[400 rows x 4 columns]"
      ]
     },
     "execution_count": 1,
     "metadata": {},
     "output_type": "execute_result"
    }
   ],
   "source": [
    "#Muhammad Hidayat Hidayat Bin Mohd Yusof\n",
    "#20FFTT2910\n",
    "#DA3304 APPLIED PROGRAMMING FOR DATA ANALYTICS\n",
    "import pandas as pd\n",
    "import numpy as np\n",
    "data=pd.read_csv('Social_Network_Ads.csv')\n",
    "target=data.pop('Purchased')\n",
    "data"
   ]
  },
  {
   "cell_type": "code",
   "execution_count": 2,
   "metadata": {},
   "outputs": [],
   "source": [
    "data['Gender'].replace(to_replace={'Male':0,'Female':1},inplace=True)"
   ]
  },
  {
   "cell_type": "code",
   "execution_count": 3,
   "metadata": {},
   "outputs": [
    {
     "name": "stdout",
     "output_type": "stream",
     "text": [
      "Accuracy = 0.86\n",
      "Recall = 0.64\n",
      "Precision = 0.95\n",
      "F1 Score = 0.77\n",
      "Average cross-validation scores: 0.65\n",
      "Confusion matrix:\n",
      " [[51  1]\n",
      " [10 18]]\n"
     ]
    }
   ],
   "source": [
    "from sklearn.model_selection import train_test_split\n",
    "from sklearn.neighbors import KNeighborsClassifier\n",
    "import sklearn.metrics as sm\n",
    "from sklearn.model_selection import cross_val_score\n",
    "X_train, X_test, y_train, y_test = train_test_split(data, target,test_size=0.2,train_size=0.8, random_state=24)\n",
    "knn=KNeighborsClassifier(n_neighbors=29)\n",
    "knn.fit(X_train,y_train)\n",
    "\n",
    "y_pred=knn.predict(X_test)\n",
    "\n",
    "cvscore = cross_val_score(knn, X_test, y_test, cv=5)\n",
    "\n",
    "print('Accuracy = {:.2f}'.format(knn.score(X_test,y_test)))\n",
    "print('Recall = {:.2f}'.format(sm.recall_score(y_test,y_pred)))\n",
    "print('Precision = {:.2f}'.format(sm.precision_score(y_test,y_pred)))\n",
    "print('F1 Score = {:.2f}'.format(sm.f1_score(y_test,y_pred)))\n",
    "print(\"Average cross-validation scores: {}\".format(cvscore.mean()))\n",
    "print('Confusion matrix:\\n',sm.confusion_matrix(y_test,y_pred))"
   ]
  },
  {
   "cell_type": "code",
   "execution_count": 4,
   "metadata": {},
   "outputs": [
    {
     "name": "stdout",
     "output_type": "stream",
     "text": [
      "Accuracy = 0.86\n",
      "Recall = 0.93\n",
      "Precision = 1.00\n",
      "F1 Score = 0.96\n",
      "Average cross-validation scores: 0.875\n",
      "Confusion matrix:\n",
      " [[52  0]\n",
      " [ 2 26]]\n"
     ]
    }
   ],
   "source": [
    "from sklearn.model_selection import train_test_split\n",
    "from sklearn.naive_bayes import GaussianNB\n",
    "import sklearn.metrics as sm\n",
    "from sklearn.model_selection import cross_val_score\n",
    "X_train, X_test, y_train, y_test = train_test_split(data, target,test_size=0.2,train_size=0.8, random_state=24)\n",
    "gaus=GaussianNB()\n",
    "gaus.fit(X_train,y_train)\n",
    "\n",
    "y_pred=gaus.predict(X_test)\n",
    "\n",
    "cvscore = cross_val_score(gaus, X_test, y_test, cv=5)\n",
    "\n",
    "print('Accuracy = {:.2f}'.format(knn.score(X_test,y_test)))\n",
    "print('Recall = {:.2f}'.format(sm.recall_score(y_test,y_pred)))\n",
    "print('Precision = {:.2f}'.format(sm.precision_score(y_test,y_pred)))\n",
    "print('F1 Score = {:.2f}'.format(sm.f1_score(y_test,y_pred)))\n",
    "print(\"Average cross-validation scores: {}\".format(cvscore.mean()))\n",
    "print('Confusion matrix:\\n',sm.confusion_matrix(y_test,y_pred))"
   ]
  },
  {
   "cell_type": "code",
   "execution_count": 5,
   "metadata": {},
   "outputs": [
    {
     "name": "stdout",
     "output_type": "stream",
     "text": [
      "Accuracy = 0.94\n",
      "Recall = 0.86\n",
      "Precision = 0.96\n",
      "F1 Score = 0.91\n",
      "Average cross-validation scores: 0.95\n",
      "Confusion matrix:\n",
      " [[51  1]\n",
      " [ 4 24]]\n"
     ]
    }
   ],
   "source": [
    "from sklearn.model_selection import train_test_split\n",
    "from sklearn.tree import DecisionTreeClassifier\n",
    "import sklearn.metrics as sm\n",
    "from sklearn.model_selection import cross_val_score\n",
    "X_train, X_test, y_train, y_test = train_test_split(data, target,test_size=0.2,train_size=0.8, random_state=24)\n",
    "dt=DecisionTreeClassifier(max_depth=3)\n",
    "dt.fit(X_train,y_train)\n",
    "\n",
    "y_pred=dt.predict(X_test)\n",
    "\n",
    "cvscore = cross_val_score(dt, X_test, y_test, cv=5)\n",
    "\n",
    "print('Accuracy = {:.2f}'.format(dt.score(X_test,y_test)))\n",
    "print('Recall = {:.2f}'.format(sm.recall_score(y_test,y_pred)))\n",
    "print('Precision = {:.2f}'.format(sm.precision_score(y_test,y_pred)))\n",
    "print('F1 Score = {:.2f}'.format(sm.f1_score(y_test,y_pred)))\n",
    "print(\"Average cross-validation scores: {}\".format(cvscore.mean()))\n",
    "print('Confusion matrix:\\n',sm.confusion_matrix(y_test,y_pred))"
   ]
  },
  {
   "cell_type": "code",
   "execution_count": 6,
   "metadata": {},
   "outputs": [
    {
     "name": "stdout",
     "output_type": "stream",
     "text": [
      "Accuracy = 0.88\n",
      "Recall = 0.64\n",
      "Precision = 1.00\n",
      "F1 Score = 0.78\n",
      "Average cross-validation scores: 0.875\n",
      "Confusion matrix:\n",
      " [[52  0]\n",
      " [10 18]]\n"
     ]
    }
   ],
   "source": [
    "from sklearn.model_selection import train_test_split\n",
    "from sklearn.linear_model import LogisticRegression\n",
    "import sklearn.metrics as sm\n",
    "X_train, X_test, y_train, y_test = train_test_split(data, target,test_size=0.2,train_size=0.8, random_state=24)\n",
    "lr=LogisticRegression()\n",
    "lr.fit(X_train,y_train)\n",
    "\n",
    "y_pred=lr.predict(X_test)\n",
    "\n",
    "cvscore = cross_val_score(lr, X_test, y_test, cv=5)\n",
    "\n",
    "print('Accuracy = {:.2f}'.format(lr.score(X_test,y_test)))\n",
    "print('Recall = {:.2f}'.format(sm.recall_score(y_test,y_pred)))\n",
    "print('Precision = {:.2f}'.format(sm.precision_score(y_test,y_pred)))\n",
    "print('F1 Score = {:.2f}'.format(sm.f1_score(y_test,y_pred)))\n",
    "print(\"Average cross-validation scores: {}\".format(cvscore.mean()))\n",
    "print('Confusion matrix:\\n',sm.confusion_matrix(y_test,y_pred))"
   ]
  },
  {
   "cell_type": "code",
   "execution_count": 18,
   "metadata": {},
   "outputs": [
    {
     "name": "stdout",
     "output_type": "stream",
     "text": [
      "Accuracy = 0.86\n",
      "Recall = 0.61\n",
      "Precision = 1.00\n",
      "F1 Score = 0.76\n",
      "Average cross-validation scores: 0.8375\n",
      "Confusion matrix:\n",
      " [[52  0]\n",
      " [11 17]]\n"
     ]
    }
   ],
   "source": [
    "from sklearn.model_selection import train_test_split\n",
    "from sklearn.svm import SVC\n",
    "import sklearn.metrics as sm\n",
    "X_train, X_test, y_train, y_test = train_test_split(data, target,test_size=0.2,train_size=0.8, random_state=24)\n",
    "svm=SVC(C=3,kernel='linear')\n",
    "svm.fit(X_train,y_train)\n",
    "\n",
    "y_pred=svm.predict(X_test)\n",
    "\n",
    "cvscore = cross_val_score(svm, X_test, y_test, cv=5)\n",
    "\n",
    "print('Accuracy = {:.2f}'.format(svm.score(X_test,y_test)))\n",
    "print('Recall = {:.2f}'.format(sm.recall_score(y_test,y_pred)))\n",
    "print('Precision = {:.2f}'.format(sm.precision_score(y_test,y_pred)))\n",
    "print('F1 Score = {:.2f}'.format(sm.f1_score(y_test,y_pred)))\n",
    "print(\"Average cross-validation scores: {}\".format(cvscore.mean()))\n",
    "print('Confusion matrix:\\n',sm.confusion_matrix(y_test,y_pred))"
   ]
  }
 ],
 "metadata": {
  "interpreter": {
   "hash": "19d1d53a962d236aa061289c2ac16dc8e6d9648c89fe79f459ae9a3493bc67b4"
  },
  "kernelspec": {
   "display_name": "Python 3.9.7 ('base')",
   "language": "python",
   "name": "python3"
  },
  "language_info": {
   "codemirror_mode": {
    "name": "ipython",
    "version": 3
   },
   "file_extension": ".py",
   "mimetype": "text/x-python",
   "name": "python",
   "nbconvert_exporter": "python",
   "pygments_lexer": "ipython3",
   "version": "3.9.7"
  },
  "orig_nbformat": 4
 },
 "nbformat": 4,
 "nbformat_minor": 2
}
