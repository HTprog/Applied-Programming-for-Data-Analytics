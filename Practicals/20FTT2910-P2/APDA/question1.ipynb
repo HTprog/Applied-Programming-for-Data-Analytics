{
 "cells": [
  {
   "cell_type": "code",
   "execution_count": null,
   "metadata": {},
   "outputs": [],
   "source": [
    "#Muhammad Hidayat Hidayat Bin Mohd Yusof\n",
    "#20FFTT2910\n",
    "#DA3304 APPLIED PROGRAMMING FOR DATA ANALYTICS\n",
    "import pandas as pd\n",
    "from numpy import nan as NAN\n",
    "filepath='class-grades - v2.csv'\n",
    "columns=['Prefix','Assignment','Tutorial','Midterm','TakeHome','Final']\n",
    "df=pd.read_csv(filepath,names=columns)\n",
    "data=pd.DataFrame(df.iloc[1:]).astype('float64')\n",
    "#df.drop(index=0)\n",
    "data\n"
   ]
  },
  {
   "cell_type": "code",
   "execution_count": null,
   "metadata": {},
   "outputs": [],
   "source": [
    "#Part a\n",
    "Missvalues=data.astype('float64')\n",
    "Row_count=len(Missvalues.index)\n",
    "num_of_columns=len(Missvalues.columns)\n",
    "MeanF=pd.Series(Missvalues['Final']).mean()\n",
    "print('Row count=',Row_count)\n",
    "print('No. of Attributes=',num_of_columns)\n",
    "print('Mean value of Final attributes=',round(MeanF))\n"
   ]
  },
  {
   "cell_type": "code",
   "execution_count": null,
   "metadata": {},
   "outputs": [],
   "source": [
    "#part b\n",
    "MissTake=len(data[data['TakeHome'].isnull()==True])\n",
    "MissFinal=len(data[data['Final'].isnull()==True])\n",
    "TotalMiss=data.isnull().sum()\n",
    "print('Missing values in Takehome=',MissTake)\n",
    "print('Missing values in Final=',MissFinal)\n",
    "print('Total Missing Values=',sum(TotalMiss))"
   ]
  },
  {
   "cell_type": "code",
   "execution_count": null,
   "metadata": {},
   "outputs": [],
   "source": [
    "#Replace NAN by mean\n",
    "Datamean=data.mean()\n",
    "THmean=round(Datamean[4])\n",
    "FLmean=round(Datamean[5])\n",
    "print('Mean value for TakeHome =',THmean)\n",
    "print('Mean value for Final =',FLmean)\n",
    "RepMean=data.fillna(round(data.mean()))\n",
    "RepMean\n"
   ]
  },
  {
   "cell_type": "code",
   "execution_count": null,
   "metadata": {},
   "outputs": [],
   "source": [
    "#Replace NAN by median\n",
    "Datamedian=data.median\n",
    "THmedian=round(data['TakeHome'].median())\n",
    "FLmedian=round(data['Final'].median())\n",
    "print('Median value for TakeHome =',THmedian)\n",
    "print('Median value for Final = ',FLmedian)\n",
    "RepMedian=data.fillna(round(data.median()))\n",
    "RepMedian\n"
   ]
  },
  {
   "cell_type": "code",
   "execution_count": null,
   "metadata": {},
   "outputs": [],
   "source": [
    "#Replace NAN by mode\n",
    "Datamode=data.mode(axis=0)\n",
    "THmode=round(Datamode.iat[0,4])\n",
    "FLmode=round(Datamode.iat[0,5])\n",
    "print('Mode value for TakeHome =',THmode)\n",
    "print('Mode value for Final = ',FLmode)\n",
    "RepMode=data.fillna(round(Datamode.iloc[0]))\n",
    "RepMode"
   ]
  }
 ],
 "metadata": {
  "interpreter": {
   "hash": "ecf5722fdaf1897a315d257d89d94520bfcaa453217d5becf09b39e73618b0de"
  },
  "kernelspec": {
   "display_name": "Python 3.9.7 ('base')",
   "language": "python",
   "name": "python3"
  },
  "language_info": {
   "codemirror_mode": {
    "name": "ipython",
    "version": 3
   },
   "file_extension": ".py",
   "mimetype": "text/x-python",
   "name": "python",
   "nbconvert_exporter": "python",
   "pygments_lexer": "ipython3",
   "version": "3.9.7"
  },
  "orig_nbformat": 4
 },
 "nbformat": 4,
 "nbformat_minor": 2
}
