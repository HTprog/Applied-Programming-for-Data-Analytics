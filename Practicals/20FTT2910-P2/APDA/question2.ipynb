{
 "cells": [
  {
   "cell_type": "code",
   "execution_count": null,
   "metadata": {},
   "outputs": [],
   "source": [
    "#Muhammad Hidayat Hidayat Bin Mohd Yusof\n",
    "#20FFTT2910\n",
    "#DA3304 APPLIED PROGRAMMING FOR DATA ANALYTICS\n",
    "import pandas as pd\n",
    "from numpy import nan as NAN\n",
    "filepath='class-grades - v2.csv'\n",
    "columns=['Prefix','Assignment','Tutorial','Midterm','TakeHome','Final']\n",
    "df=pd.read_csv(filepath,names=columns)\n",
    "data=pd.DataFrame(df.iloc[1:]).astype('float64')\n",
    "data"
   ]
  },
  {
   "cell_type": "code",
   "execution_count": null,
   "metadata": {},
   "outputs": [],
   "source": [
    "#Question 2 part 1\n",
    "Bins=[0,20,40,60,80,100]\n",
    "#grades=['E','D','C','B','A']\n",
    "FinalR=pd.cut(data['Final'],Bins,right=True)\n",
    "ToAppend=pd.Series(FinalR,name='FinalR')\n",
    "Appended=data.join(ToAppend)\n",
    "Appended"
   ]
  },
  {
   "cell_type": "code",
   "execution_count": null,
   "metadata": {},
   "outputs": [],
   "source": [
    "#Question 2 part 2\n",
    "Bins=[0,20,40,60,80,100]\n",
    "grades=['E','D','C','B','A']\n",
    "old=pd.DataFrame({'Old_Final':data['Final']})\n",
    "gradlab=pd.DataFrame({'Labels':pd.cut(data['Final'],Bins,labels=grades,right=True)})\n",
    "new=data.join([old,gradlab])\n",
    "new['Final']=pd.cut(data['Final'],Bins,right=True)\n",
    "ReData=new[['Prefix','Assignment','Tutorial','Midterm','TakeHome','Old_Final','Final','Labels']]\n",
    "ReData"
   ]
  }
 ],
 "metadata": {
  "interpreter": {
   "hash": "ecf5722fdaf1897a315d257d89d94520bfcaa453217d5becf09b39e73618b0de"
  },
  "kernelspec": {
   "display_name": "Python 3.9.7 ('base')",
   "language": "python",
   "name": "python3"
  },
  "language_info": {
   "name": "python",
   "version": "3.9.7"
  },
  "orig_nbformat": 4
 },
 "nbformat": 4,
 "nbformat_minor": 2
}
