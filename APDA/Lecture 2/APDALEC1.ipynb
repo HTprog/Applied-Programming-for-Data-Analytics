{
 "cells": [
  {
   "cell_type": "code",
   "execution_count": 1,
   "metadata": {},
   "outputs": [
    {
     "data": {
      "text/plain": [
       "0     aardvark\n",
       "1    artichoke\n",
       "2          NaN\n",
       "3      avocado\n",
       "dtype: object"
      ]
     },
     "execution_count": 1,
     "metadata": {},
     "output_type": "execute_result"
    }
   ],
   "source": [
    "import numpy as np\n",
    "import pandas as pd\n",
    "\n",
    "string_data = pd.Series(['aardvark', 'artichoke', np.nan, 'avocado'])\n",
    "string_data"
   ]
  },
  {
   "cell_type": "code",
   "execution_count": 2,
   "metadata": {},
   "outputs": [
    {
     "data": {
      "text/plain": [
       "0    False\n",
       "1    False\n",
       "2     True\n",
       "3    False\n",
       "dtype: bool"
      ]
     },
     "execution_count": 2,
     "metadata": {},
     "output_type": "execute_result"
    }
   ],
   "source": [
    "string_data.isnull()"
   ]
  },
  {
   "cell_type": "code",
   "execution_count": 10,
   "metadata": {},
   "outputs": [
    {
     "data": {
      "text/plain": [
       "0    1.0\n",
       "1    NaN\n",
       "2    3.5\n",
       "3    NaN\n",
       "4    7.0\n",
       "dtype: float64"
      ]
     },
     "execution_count": 10,
     "metadata": {},
     "output_type": "execute_result"
    }
   ],
   "source": [
    "from numpy import nan as NA\n",
    "import pandas as pd\n",
    "\n",
    "data = pd.Series([1, NA, 3.5, NA, 7])"
   ]
  },
  {
   "cell_type": "code",
   "execution_count": 18,
   "metadata": {},
   "outputs": [
    {
     "data": {
      "text/plain": [
       "0    1.0\n",
       "2    3.5\n",
       "4    7.0\n",
       "dtype: float64"
      ]
     },
     "execution_count": 18,
     "metadata": {},
     "output_type": "execute_result"
    }
   ],
   "source": [
    "x=data.dropna(how='all')\n",
    "x"
   ]
  },
  {
   "cell_type": "code",
   "execution_count": 22,
   "metadata": {},
   "outputs": [
    {
     "data": {
      "text/html": [
       "<div>\n",
       "<style scoped>\n",
       "    .dataframe tbody tr th:only-of-type {\n",
       "        vertical-align: middle;\n",
       "    }\n",
       "\n",
       "    .dataframe tbody tr th {\n",
       "        vertical-align: top;\n",
       "    }\n",
       "\n",
       "    .dataframe thead th {\n",
       "        text-align: right;\n",
       "    }\n",
       "</style>\n",
       "<table border=\"1\" class=\"dataframe\">\n",
       "  <thead>\n",
       "    <tr style=\"text-align: right;\">\n",
       "      <th></th>\n",
       "      <th>0</th>\n",
       "      <th>1</th>\n",
       "      <th>2</th>\n",
       "    </tr>\n",
       "  </thead>\n",
       "  <tbody>\n",
       "    <tr>\n",
       "      <th>0</th>\n",
       "      <td>1.0</td>\n",
       "      <td>6.5</td>\n",
       "      <td>3.0</td>\n",
       "    </tr>\n",
       "  </tbody>\n",
       "</table>\n",
       "</div>"
      ],
      "text/plain": [
       "     0    1    2\n",
       "0  1.0  6.5  3.0"
      ]
     },
     "execution_count": 22,
     "metadata": {},
     "output_type": "execute_result"
    }
   ],
   "source": [
    "data = pd.DataFrame([[1., 6.5, 3.], [1., NA, NA], [NA, NA, NA], [NA, 6.5, 3.]])\n",
    "cleaned = data.dropna()\n",
    "data\n",
    "cleaned"
   ]
  },
  {
   "cell_type": "code",
   "execution_count": 13,
   "metadata": {},
   "outputs": [
    {
     "data": {
      "text/html": [
       "<div>\n",
       "<style scoped>\n",
       "    .dataframe tbody tr th:only-of-type {\n",
       "        vertical-align: middle;\n",
       "    }\n",
       "\n",
       "    .dataframe tbody tr th {\n",
       "        vertical-align: top;\n",
       "    }\n",
       "\n",
       "    .dataframe thead th {\n",
       "        text-align: right;\n",
       "    }\n",
       "</style>\n",
       "<table border=\"1\" class=\"dataframe\">\n",
       "  <thead>\n",
       "    <tr style=\"text-align: right;\">\n",
       "      <th></th>\n",
       "      <th>0</th>\n",
       "      <th>1</th>\n",
       "      <th>2</th>\n",
       "    </tr>\n",
       "  </thead>\n",
       "  <tbody>\n",
       "    <tr>\n",
       "      <th>0</th>\n",
       "      <td>1.576940</td>\n",
       "      <td>NaN</td>\n",
       "      <td>NaN</td>\n",
       "    </tr>\n",
       "    <tr>\n",
       "      <th>1</th>\n",
       "      <td>-0.097891</td>\n",
       "      <td>NaN</td>\n",
       "      <td>NaN</td>\n",
       "    </tr>\n",
       "    <tr>\n",
       "      <th>2</th>\n",
       "      <td>1.000240</td>\n",
       "      <td>NaN</td>\n",
       "      <td>-0.468117</td>\n",
       "    </tr>\n",
       "    <tr>\n",
       "      <th>3</th>\n",
       "      <td>-1.518645</td>\n",
       "      <td>NaN</td>\n",
       "      <td>-1.422842</td>\n",
       "    </tr>\n",
       "    <tr>\n",
       "      <th>4</th>\n",
       "      <td>-0.584812</td>\n",
       "      <td>2.342497</td>\n",
       "      <td>0.026670</td>\n",
       "    </tr>\n",
       "    <tr>\n",
       "      <th>5</th>\n",
       "      <td>-0.292110</td>\n",
       "      <td>1.050318</td>\n",
       "      <td>1.294500</td>\n",
       "    </tr>\n",
       "    <tr>\n",
       "      <th>6</th>\n",
       "      <td>-0.113183</td>\n",
       "      <td>-0.270872</td>\n",
       "      <td>1.208772</td>\n",
       "    </tr>\n",
       "  </tbody>\n",
       "</table>\n",
       "</div>"
      ],
      "text/plain": [
       "          0         1         2\n",
       "0  1.576940       NaN       NaN\n",
       "1 -0.097891       NaN       NaN\n",
       "2  1.000240       NaN -0.468117\n",
       "3 -1.518645       NaN -1.422842\n",
       "4 -0.584812  2.342497  0.026670\n",
       "5 -0.292110  1.050318  1.294500\n",
       "6 -0.113183 -0.270872  1.208772"
      ]
     },
     "execution_count": 13,
     "metadata": {},
     "output_type": "execute_result"
    }
   ],
   "source": [
    "import pandas as pd \n",
    "from numpy import nan as NA\n",
    "df = pd.DataFrame(np.random.randn(7, 3))\n",
    "df\n",
    "df.iloc[:4, 1] = NA\n",
    "df.iloc[:2, 2] = NA\n",
    "df\n"
   ]
  },
  {
   "cell_type": "code",
   "execution_count": 14,
   "metadata": {},
   "outputs": [
    {
     "data": {
      "text/html": [
       "<div>\n",
       "<style scoped>\n",
       "    .dataframe tbody tr th:only-of-type {\n",
       "        vertical-align: middle;\n",
       "    }\n",
       "\n",
       "    .dataframe tbody tr th {\n",
       "        vertical-align: top;\n",
       "    }\n",
       "\n",
       "    .dataframe thead th {\n",
       "        text-align: right;\n",
       "    }\n",
       "</style>\n",
       "<table border=\"1\" class=\"dataframe\">\n",
       "  <thead>\n",
       "    <tr style=\"text-align: right;\">\n",
       "      <th></th>\n",
       "      <th>0</th>\n",
       "      <th>1</th>\n",
       "      <th>2</th>\n",
       "    </tr>\n",
       "  </thead>\n",
       "  <tbody>\n",
       "    <tr>\n",
       "      <th>0</th>\n",
       "      <td>1.576940</td>\n",
       "      <td>0.500000</td>\n",
       "      <td>0.000000</td>\n",
       "    </tr>\n",
       "    <tr>\n",
       "      <th>1</th>\n",
       "      <td>-0.097891</td>\n",
       "      <td>0.500000</td>\n",
       "      <td>0.000000</td>\n",
       "    </tr>\n",
       "    <tr>\n",
       "      <th>2</th>\n",
       "      <td>1.000240</td>\n",
       "      <td>0.500000</td>\n",
       "      <td>-0.468117</td>\n",
       "    </tr>\n",
       "    <tr>\n",
       "      <th>3</th>\n",
       "      <td>-1.518645</td>\n",
       "      <td>0.500000</td>\n",
       "      <td>-1.422842</td>\n",
       "    </tr>\n",
       "    <tr>\n",
       "      <th>4</th>\n",
       "      <td>-0.584812</td>\n",
       "      <td>2.342497</td>\n",
       "      <td>0.026670</td>\n",
       "    </tr>\n",
       "    <tr>\n",
       "      <th>5</th>\n",
       "      <td>-0.292110</td>\n",
       "      <td>1.050318</td>\n",
       "      <td>1.294500</td>\n",
       "    </tr>\n",
       "    <tr>\n",
       "      <th>6</th>\n",
       "      <td>-0.113183</td>\n",
       "      <td>-0.270872</td>\n",
       "      <td>1.208772</td>\n",
       "    </tr>\n",
       "  </tbody>\n",
       "</table>\n",
       "</div>"
      ],
      "text/plain": [
       "          0         1         2\n",
       "0  1.576940  0.500000  0.000000\n",
       "1 -0.097891  0.500000  0.000000\n",
       "2  1.000240  0.500000 -0.468117\n",
       "3 -1.518645  0.500000 -1.422842\n",
       "4 -0.584812  2.342497  0.026670\n",
       "5 -0.292110  1.050318  1.294500\n",
       "6 -0.113183 -0.270872  1.208772"
      ]
     },
     "execution_count": 14,
     "metadata": {},
     "output_type": "execute_result"
    }
   ],
   "source": [
    "ch=df.fillna({1: 0.5, 2: 0})\n",
    "ch\n"
   ]
  },
  {
   "cell_type": "code",
   "execution_count": 15,
   "metadata": {},
   "outputs": [
    {
     "data": {
      "text/html": [
       "<div>\n",
       "<style scoped>\n",
       "    .dataframe tbody tr th:only-of-type {\n",
       "        vertical-align: middle;\n",
       "    }\n",
       "\n",
       "    .dataframe tbody tr th {\n",
       "        vertical-align: top;\n",
       "    }\n",
       "\n",
       "    .dataframe thead th {\n",
       "        text-align: right;\n",
       "    }\n",
       "</style>\n",
       "<table border=\"1\" class=\"dataframe\">\n",
       "  <thead>\n",
       "    <tr style=\"text-align: right;\">\n",
       "      <th></th>\n",
       "      <th>0</th>\n",
       "      <th>1</th>\n",
       "      <th>2</th>\n",
       "    </tr>\n",
       "  </thead>\n",
       "  <tbody>\n",
       "    <tr>\n",
       "      <th>0</th>\n",
       "      <td>1.576940</td>\n",
       "      <td>0.000000</td>\n",
       "      <td>0.000000</td>\n",
       "    </tr>\n",
       "    <tr>\n",
       "      <th>1</th>\n",
       "      <td>-0.097891</td>\n",
       "      <td>0.000000</td>\n",
       "      <td>0.000000</td>\n",
       "    </tr>\n",
       "    <tr>\n",
       "      <th>2</th>\n",
       "      <td>1.000240</td>\n",
       "      <td>0.000000</td>\n",
       "      <td>-0.468117</td>\n",
       "    </tr>\n",
       "    <tr>\n",
       "      <th>3</th>\n",
       "      <td>-1.518645</td>\n",
       "      <td>0.000000</td>\n",
       "      <td>-1.422842</td>\n",
       "    </tr>\n",
       "    <tr>\n",
       "      <th>4</th>\n",
       "      <td>-0.584812</td>\n",
       "      <td>2.342497</td>\n",
       "      <td>0.026670</td>\n",
       "    </tr>\n",
       "    <tr>\n",
       "      <th>5</th>\n",
       "      <td>-0.292110</td>\n",
       "      <td>1.050318</td>\n",
       "      <td>1.294500</td>\n",
       "    </tr>\n",
       "    <tr>\n",
       "      <th>6</th>\n",
       "      <td>-0.113183</td>\n",
       "      <td>-0.270872</td>\n",
       "      <td>1.208772</td>\n",
       "    </tr>\n",
       "  </tbody>\n",
       "</table>\n",
       "</div>"
      ],
      "text/plain": [
       "          0         1         2\n",
       "0  1.576940  0.000000  0.000000\n",
       "1 -0.097891  0.000000  0.000000\n",
       "2  1.000240  0.000000 -0.468117\n",
       "3 -1.518645  0.000000 -1.422842\n",
       "4 -0.584812  2.342497  0.026670\n",
       "5 -0.292110  1.050318  1.294500\n",
       "6 -0.113183 -0.270872  1.208772"
      ]
     },
     "execution_count": 15,
     "metadata": {},
     "output_type": "execute_result"
    }
   ],
   "source": [
    "df.fillna(0, inplace=True)\n",
    "df"
   ]
  },
  {
   "cell_type": "code",
   "execution_count": 16,
   "metadata": {},
   "outputs": [
    {
     "data": {
      "text/html": [
       "<div>\n",
       "<style scoped>\n",
       "    .dataframe tbody tr th:only-of-type {\n",
       "        vertical-align: middle;\n",
       "    }\n",
       "\n",
       "    .dataframe tbody tr th {\n",
       "        vertical-align: top;\n",
       "    }\n",
       "\n",
       "    .dataframe thead th {\n",
       "        text-align: right;\n",
       "    }\n",
       "</style>\n",
       "<table border=\"1\" class=\"dataframe\">\n",
       "  <thead>\n",
       "    <tr style=\"text-align: right;\">\n",
       "      <th></th>\n",
       "      <th>0</th>\n",
       "      <th>1</th>\n",
       "      <th>2</th>\n",
       "    </tr>\n",
       "  </thead>\n",
       "  <tbody>\n",
       "    <tr>\n",
       "      <th>0</th>\n",
       "      <td>0.324943</td>\n",
       "      <td>2.138004</td>\n",
       "      <td>-0.204693</td>\n",
       "    </tr>\n",
       "    <tr>\n",
       "      <th>1</th>\n",
       "      <td>-1.044398</td>\n",
       "      <td>0.941860</td>\n",
       "      <td>-0.228547</td>\n",
       "    </tr>\n",
       "    <tr>\n",
       "      <th>2</th>\n",
       "      <td>0.009042</td>\n",
       "      <td>0.941860</td>\n",
       "      <td>2.059398</td>\n",
       "    </tr>\n",
       "    <tr>\n",
       "      <th>3</th>\n",
       "      <td>-0.862462</td>\n",
       "      <td>0.941860</td>\n",
       "      <td>0.223473</td>\n",
       "    </tr>\n",
       "    <tr>\n",
       "      <th>4</th>\n",
       "      <td>1.081424</td>\n",
       "      <td>NaN</td>\n",
       "      <td>0.223473</td>\n",
       "    </tr>\n",
       "    <tr>\n",
       "      <th>5</th>\n",
       "      <td>-0.739890</td>\n",
       "      <td>NaN</td>\n",
       "      <td>0.223473</td>\n",
       "    </tr>\n",
       "  </tbody>\n",
       "</table>\n",
       "</div>"
      ],
      "text/plain": [
       "          0         1         2\n",
       "0  0.324943  2.138004 -0.204693\n",
       "1 -1.044398  0.941860 -0.228547\n",
       "2  0.009042  0.941860  2.059398\n",
       "3 -0.862462  0.941860  0.223473\n",
       "4  1.081424       NaN  0.223473\n",
       "5 -0.739890       NaN  0.223473"
      ]
     },
     "execution_count": 16,
     "metadata": {},
     "output_type": "execute_result"
    }
   ],
   "source": [
    "df = pd.DataFrame(np.random.randn(6, 3))\n",
    "df.iloc[2:, 1] = NA\n",
    "df.iloc[4:, 2] = NA\n",
    "df\n",
    "df.fillna(method='ffill')\n",
    "df.fillna(method='ffill', limit=2)"
   ]
  },
  {
   "cell_type": "code",
   "execution_count": 9,
   "metadata": {},
   "outputs": [
    {
     "data": {
      "text/html": [
       "<div>\n",
       "<style scoped>\n",
       "    .dataframe tbody tr th:only-of-type {\n",
       "        vertical-align: middle;\n",
       "    }\n",
       "\n",
       "    .dataframe tbody tr th {\n",
       "        vertical-align: top;\n",
       "    }\n",
       "\n",
       "    .dataframe thead th {\n",
       "        text-align: right;\n",
       "    }\n",
       "</style>\n",
       "<table border=\"1\" class=\"dataframe\">\n",
       "  <thead>\n",
       "    <tr style=\"text-align: right;\">\n",
       "      <th></th>\n",
       "      <th>food</th>\n",
       "      <th>ounces</th>\n",
       "    </tr>\n",
       "  </thead>\n",
       "  <tbody>\n",
       "    <tr>\n",
       "      <th>0</th>\n",
       "      <td>bacon</td>\n",
       "      <td>4.0</td>\n",
       "    </tr>\n",
       "    <tr>\n",
       "      <th>1</th>\n",
       "      <td>pulled pork</td>\n",
       "      <td>3.0</td>\n",
       "    </tr>\n",
       "    <tr>\n",
       "      <th>2</th>\n",
       "      <td>bacon</td>\n",
       "      <td>12.0</td>\n",
       "    </tr>\n",
       "    <tr>\n",
       "      <th>3</th>\n",
       "      <td>Pastrami</td>\n",
       "      <td>6.0</td>\n",
       "    </tr>\n",
       "    <tr>\n",
       "      <th>4</th>\n",
       "      <td>corned beef</td>\n",
       "      <td>7.5</td>\n",
       "    </tr>\n",
       "    <tr>\n",
       "      <th>5</th>\n",
       "      <td>Bacon</td>\n",
       "      <td>8.0</td>\n",
       "    </tr>\n",
       "    <tr>\n",
       "      <th>6</th>\n",
       "      <td>pastrami</td>\n",
       "      <td>3.0</td>\n",
       "    </tr>\n",
       "    <tr>\n",
       "      <th>7</th>\n",
       "      <td>honey ham</td>\n",
       "      <td>5.0</td>\n",
       "    </tr>\n",
       "    <tr>\n",
       "      <th>8</th>\n",
       "      <td>nova lox</td>\n",
       "      <td>6.0</td>\n",
       "    </tr>\n",
       "  </tbody>\n",
       "</table>\n",
       "</div>"
      ],
      "text/plain": [
       "          food  ounces\n",
       "0        bacon     4.0\n",
       "1  pulled pork     3.0\n",
       "2        bacon    12.0\n",
       "3     Pastrami     6.0\n",
       "4  corned beef     7.5\n",
       "5        Bacon     8.0\n",
       "6     pastrami     3.0\n",
       "7    honey ham     5.0\n",
       "8     nova lox     6.0"
      ]
     },
     "execution_count": 9,
     "metadata": {},
     "output_type": "execute_result"
    }
   ],
   "source": [
    "import pandas as pd\n",
    "import numpy as np\n",
    "\n",
    "data = pd.DataFrame({'food': ['bacon', 'pulled pork', 'bacon', 'Pastrami',\n",
    " 'corned beef', 'Bacon', 'pastrami', 'honey ham','nova lox'],'ounces': [4, 3, 12, 6, 7.5, 8, 3, 5, 6]})\n",
    "data\n"
   ]
  },
  {
   "cell_type": "code",
   "execution_count": 10,
   "metadata": {},
   "outputs": [
    {
     "data": {
      "text/plain": [
       "{'bacon': 'pig',\n",
       " 'pulled pork': 'pig',\n",
       " 'pastrami': 'cow',\n",
       " 'corned beef': 'cow',\n",
       " 'honey ham': 'pig',\n",
       " 'nova lox': 'salmon'}"
      ]
     },
     "execution_count": 10,
     "metadata": {},
     "output_type": "execute_result"
    }
   ],
   "source": [
    "meat_to_animal = {'bacon': 'pig','pulled pork': 'pig','pastrami': 'cow','corned beef': 'cow','honey ham': 'pig','nova lox': 'salmon'}\n",
    "meat_to_animal\n"
   ]
  },
  {
   "cell_type": "code",
   "execution_count": 11,
   "metadata": {},
   "outputs": [
    {
     "data": {
      "text/html": [
       "<div>\n",
       "<style scoped>\n",
       "    .dataframe tbody tr th:only-of-type {\n",
       "        vertical-align: middle;\n",
       "    }\n",
       "\n",
       "    .dataframe tbody tr th {\n",
       "        vertical-align: top;\n",
       "    }\n",
       "\n",
       "    .dataframe thead th {\n",
       "        text-align: right;\n",
       "    }\n",
       "</style>\n",
       "<table border=\"1\" class=\"dataframe\">\n",
       "  <thead>\n",
       "    <tr style=\"text-align: right;\">\n",
       "      <th></th>\n",
       "      <th>food</th>\n",
       "      <th>ounces</th>\n",
       "      <th>animal</th>\n",
       "    </tr>\n",
       "  </thead>\n",
       "  <tbody>\n",
       "    <tr>\n",
       "      <th>0</th>\n",
       "      <td>bacon</td>\n",
       "      <td>4.0</td>\n",
       "      <td>pig</td>\n",
       "    </tr>\n",
       "    <tr>\n",
       "      <th>1</th>\n",
       "      <td>pulled pork</td>\n",
       "      <td>3.0</td>\n",
       "      <td>pig</td>\n",
       "    </tr>\n",
       "    <tr>\n",
       "      <th>2</th>\n",
       "      <td>bacon</td>\n",
       "      <td>12.0</td>\n",
       "      <td>pig</td>\n",
       "    </tr>\n",
       "    <tr>\n",
       "      <th>3</th>\n",
       "      <td>Pastrami</td>\n",
       "      <td>6.0</td>\n",
       "      <td>cow</td>\n",
       "    </tr>\n",
       "    <tr>\n",
       "      <th>4</th>\n",
       "      <td>corned beef</td>\n",
       "      <td>7.5</td>\n",
       "      <td>cow</td>\n",
       "    </tr>\n",
       "    <tr>\n",
       "      <th>5</th>\n",
       "      <td>Bacon</td>\n",
       "      <td>8.0</td>\n",
       "      <td>pig</td>\n",
       "    </tr>\n",
       "    <tr>\n",
       "      <th>6</th>\n",
       "      <td>pastrami</td>\n",
       "      <td>3.0</td>\n",
       "      <td>cow</td>\n",
       "    </tr>\n",
       "    <tr>\n",
       "      <th>7</th>\n",
       "      <td>honey ham</td>\n",
       "      <td>5.0</td>\n",
       "      <td>pig</td>\n",
       "    </tr>\n",
       "    <tr>\n",
       "      <th>8</th>\n",
       "      <td>nova lox</td>\n",
       "      <td>6.0</td>\n",
       "      <td>salmon</td>\n",
       "    </tr>\n",
       "  </tbody>\n",
       "</table>\n",
       "</div>"
      ],
      "text/plain": [
       "          food  ounces  animal\n",
       "0        bacon     4.0     pig\n",
       "1  pulled pork     3.0     pig\n",
       "2        bacon    12.0     pig\n",
       "3     Pastrami     6.0     cow\n",
       "4  corned beef     7.5     cow\n",
       "5        Bacon     8.0     pig\n",
       "6     pastrami     3.0     cow\n",
       "7    honey ham     5.0     pig\n",
       "8     nova lox     6.0  salmon"
      ]
     },
     "execution_count": 11,
     "metadata": {},
     "output_type": "execute_result"
    }
   ],
   "source": [
    "data['animal'] = data['food'].map(str.lower).map(meat_to_animal)\n",
    "data\n",
    "\n"
   ]
  },
  {
   "cell_type": "code",
   "execution_count": 12,
   "metadata": {},
   "outputs": [
    {
     "data": {
      "text/plain": [
       "0       pig\n",
       "1       pig\n",
       "2       pig\n",
       "3       cow\n",
       "4       cow\n",
       "5       pig\n",
       "6       cow\n",
       "7       pig\n",
       "8    salmon\n",
       "Name: food, dtype: object"
      ]
     },
     "execution_count": 12,
     "metadata": {},
     "output_type": "execute_result"
    }
   ],
   "source": [
    "data['food'].map(lambda x: meat_to_animal[x.lower()])"
   ]
  },
  {
   "cell_type": "code",
   "execution_count": 15,
   "metadata": {},
   "outputs": [
    {
     "data": {
      "text/plain": [
       "0       1.0\n",
       "1    -999.0\n",
       "2       2.0\n",
       "3    -999.0\n",
       "4   -1000.0\n",
       "5       3.0\n",
       "dtype: float64"
      ]
     },
     "execution_count": 15,
     "metadata": {},
     "output_type": "execute_result"
    }
   ],
   "source": [
    "import pandas as pd\n",
    "from numpy import nan as NA\n",
    "data = pd.Series([1., -999., 2., -999., -1000., 3.])\n",
    "data"
   ]
  },
  {
   "cell_type": "code",
   "execution_count": 22,
   "metadata": {},
   "outputs": [
    {
     "data": {
      "text/plain": [
       "0       1.0\n",
       "1       NaN\n",
       "2       2.0\n",
       "3       NaN\n",
       "4   -1000.0\n",
       "5       3.0\n",
       "dtype: float64"
      ]
     },
     "execution_count": 22,
     "metadata": {},
     "output_type": "execute_result"
    }
   ],
   "source": [
    "R1=data.replace(-999, np.nan)\n",
    "R1"
   ]
  },
  {
   "cell_type": "code",
   "execution_count": 27,
   "metadata": {},
   "outputs": [
    {
     "data": {
      "text/plain": [
       "0    1.0\n",
       "1    NaN\n",
       "2    2.0\n",
       "3    NaN\n",
       "4    NaN\n",
       "5    3.0\n",
       "dtype: float64"
      ]
     },
     "execution_count": 27,
     "metadata": {},
     "output_type": "execute_result"
    }
   ],
   "source": [
    "R2=data.replace([-999, -1000], np.nan)\n",
    "R2"
   ]
  },
  {
   "cell_type": "code",
   "execution_count": 24,
   "metadata": {},
   "outputs": [
    {
     "data": {
      "text/plain": [
       "0    1.0\n",
       "1    NaN\n",
       "2    2.0\n",
       "3    NaN\n",
       "4    0.0\n",
       "5    3.0\n",
       "dtype: float64"
      ]
     },
     "execution_count": 24,
     "metadata": {},
     "output_type": "execute_result"
    }
   ],
   "source": [
    "R3=data.replace([-999, -1000], [np.nan, 0])\n",
    "R3"
   ]
  },
  {
   "cell_type": "code",
   "execution_count": 26,
   "metadata": {},
   "outputs": [
    {
     "data": {
      "text/plain": [
       "0    1.0\n",
       "1    NaN\n",
       "2    2.0\n",
       "3    NaN\n",
       "4    0.0\n",
       "5    3.0\n",
       "dtype: float64"
      ]
     },
     "execution_count": 26,
     "metadata": {},
     "output_type": "execute_result"
    }
   ],
   "source": [
    "R4=data.replace({-999: np.nan, -1000: 0}) \n",
    "R4"
   ]
  },
  {
   "cell_type": "code",
   "execution_count": 79,
   "metadata": {},
   "outputs": [
    {
     "data": {
      "text/html": [
       "<div>\n",
       "<style scoped>\n",
       "    .dataframe tbody tr th:only-of-type {\n",
       "        vertical-align: middle;\n",
       "    }\n",
       "\n",
       "    .dataframe tbody tr th {\n",
       "        vertical-align: top;\n",
       "    }\n",
       "\n",
       "    .dataframe thead th {\n",
       "        text-align: right;\n",
       "    }\n",
       "</style>\n",
       "<table border=\"1\" class=\"dataframe\">\n",
       "  <thead>\n",
       "    <tr style=\"text-align: right;\">\n",
       "      <th></th>\n",
       "      <th>one</th>\n",
       "      <th>two</th>\n",
       "      <th>three</th>\n",
       "      <th>four</th>\n",
       "    </tr>\n",
       "  </thead>\n",
       "  <tbody>\n",
       "    <tr>\n",
       "      <th>Ohio</th>\n",
       "      <td>0</td>\n",
       "      <td>1</td>\n",
       "      <td>2</td>\n",
       "      <td>3</td>\n",
       "    </tr>\n",
       "    <tr>\n",
       "      <th>Colorado</th>\n",
       "      <td>4</td>\n",
       "      <td>5</td>\n",
       "      <td>6</td>\n",
       "      <td>7</td>\n",
       "    </tr>\n",
       "    <tr>\n",
       "      <th>New York</th>\n",
       "      <td>8</td>\n",
       "      <td>9</td>\n",
       "      <td>10</td>\n",
       "      <td>11</td>\n",
       "    </tr>\n",
       "  </tbody>\n",
       "</table>\n",
       "</div>"
      ],
      "text/plain": [
       "          one  two  three  four\n",
       "Ohio        0    1      2     3\n",
       "Colorado    4    5      6     7\n",
       "New York    8    9     10    11"
      ]
     },
     "execution_count": 79,
     "metadata": {},
     "output_type": "execute_result"
    }
   ],
   "source": [
    "data = pd.DataFrame(np.arange(12).reshape((3,4)),\n",
    "index=['Ohio', 'Colorado', 'New York'],\n",
    "columns=['one', 'two', 'three', 'four'])\n",
    "data\n"
   ]
  },
  {
   "cell_type": "code",
   "execution_count": 29,
   "metadata": {},
   "outputs": [
    {
     "data": {
      "text/plain": [
       "Index(['OHIO', 'COLO', 'NEW '], dtype='object')"
      ]
     },
     "execution_count": 29,
     "metadata": {},
     "output_type": "execute_result"
    }
   ],
   "source": [
    "transform = lambda x: x[:4].upper()\n",
    "data.index.map(transform)\n"
   ]
  },
  {
   "cell_type": "code",
   "execution_count": 80,
   "metadata": {},
   "outputs": [
    {
     "data": {
      "text/html": [
       "<div>\n",
       "<style scoped>\n",
       "    .dataframe tbody tr th:only-of-type {\n",
       "        vertical-align: middle;\n",
       "    }\n",
       "\n",
       "    .dataframe tbody tr th {\n",
       "        vertical-align: top;\n",
       "    }\n",
       "\n",
       "    .dataframe thead th {\n",
       "        text-align: right;\n",
       "    }\n",
       "</style>\n",
       "<table border=\"1\" class=\"dataframe\">\n",
       "  <thead>\n",
       "    <tr style=\"text-align: right;\">\n",
       "      <th></th>\n",
       "      <th>one</th>\n",
       "      <th>two</th>\n",
       "      <th>three</th>\n",
       "      <th>four</th>\n",
       "    </tr>\n",
       "  </thead>\n",
       "  <tbody>\n",
       "    <tr>\n",
       "      <th>OHIO</th>\n",
       "      <td>0</td>\n",
       "      <td>1</td>\n",
       "      <td>2</td>\n",
       "      <td>3</td>\n",
       "    </tr>\n",
       "    <tr>\n",
       "      <th>COLO</th>\n",
       "      <td>4</td>\n",
       "      <td>5</td>\n",
       "      <td>6</td>\n",
       "      <td>7</td>\n",
       "    </tr>\n",
       "    <tr>\n",
       "      <th>NEW</th>\n",
       "      <td>8</td>\n",
       "      <td>9</td>\n",
       "      <td>10</td>\n",
       "      <td>11</td>\n",
       "    </tr>\n",
       "  </tbody>\n",
       "</table>\n",
       "</div>"
      ],
      "text/plain": [
       "      one  two  three  four\n",
       "OHIO    0    1      2     3\n",
       "COLO    4    5      6     7\n",
       "NEW     8    9     10    11"
      ]
     },
     "execution_count": 80,
     "metadata": {},
     "output_type": "execute_result"
    }
   ],
   "source": [
    "data.index = data.index.map(transform)\n",
    "data.index\n",
    "data"
   ]
  },
  {
   "cell_type": "code",
   "execution_count": 86,
   "metadata": {},
   "outputs": [
    {
     "data": {
      "text/html": [
       "<div>\n",
       "<style scoped>\n",
       "    .dataframe tbody tr th:only-of-type {\n",
       "        vertical-align: middle;\n",
       "    }\n",
       "\n",
       "    .dataframe tbody tr th {\n",
       "        vertical-align: top;\n",
       "    }\n",
       "\n",
       "    .dataframe thead th {\n",
       "        text-align: right;\n",
       "    }\n",
       "</style>\n",
       "<table border=\"1\" class=\"dataframe\">\n",
       "  <thead>\n",
       "    <tr style=\"text-align: right;\">\n",
       "      <th></th>\n",
       "      <th>one</th>\n",
       "      <th>two</th>\n",
       "      <th>three</th>\n",
       "      <th>four</th>\n",
       "    </tr>\n",
       "  </thead>\n",
       "  <tbody>\n",
       "    <tr>\n",
       "      <th>OHIO</th>\n",
       "      <td>0</td>\n",
       "      <td>1</td>\n",
       "      <td>2</td>\n",
       "      <td>3</td>\n",
       "    </tr>\n",
       "    <tr>\n",
       "      <th>COLO</th>\n",
       "      <td>4</td>\n",
       "      <td>5</td>\n",
       "      <td>6</td>\n",
       "      <td>7</td>\n",
       "    </tr>\n",
       "    <tr>\n",
       "      <th>NEW</th>\n",
       "      <td>8</td>\n",
       "      <td>9</td>\n",
       "      <td>10</td>\n",
       "      <td>11</td>\n",
       "    </tr>\n",
       "  </tbody>\n",
       "</table>\n",
       "</div>"
      ],
      "text/plain": [
       "      one  two  three  four\n",
       "OHIO    0    1      2     3\n",
       "COLO    4    5      6     7\n",
       "NEW     8    9     10    11"
      ]
     },
     "execution_count": 86,
     "metadata": {},
     "output_type": "execute_result"
    }
   ],
   "source": [
    "data.rename(index=str.title, columns=str.upper)\n",
    "data"
   ]
  },
  {
   "cell_type": "code",
   "execution_count": 85,
   "metadata": {},
   "outputs": [
    {
     "data": {
      "text/html": [
       "<div>\n",
       "<style scoped>\n",
       "    .dataframe tbody tr th:only-of-type {\n",
       "        vertical-align: middle;\n",
       "    }\n",
       "\n",
       "    .dataframe tbody tr th {\n",
       "        vertical-align: top;\n",
       "    }\n",
       "\n",
       "    .dataframe thead th {\n",
       "        text-align: right;\n",
       "    }\n",
       "</style>\n",
       "<table border=\"1\" class=\"dataframe\">\n",
       "  <thead>\n",
       "    <tr style=\"text-align: right;\">\n",
       "      <th></th>\n",
       "      <th>one</th>\n",
       "      <th>two</th>\n",
       "      <th>three</th>\n",
       "      <th>four</th>\n",
       "    </tr>\n",
       "  </thead>\n",
       "  <tbody>\n",
       "    <tr>\n",
       "      <th>INDIANA</th>\n",
       "      <td>0</td>\n",
       "      <td>1</td>\n",
       "      <td>2</td>\n",
       "      <td>3</td>\n",
       "    </tr>\n",
       "    <tr>\n",
       "      <th>COLO</th>\n",
       "      <td>4</td>\n",
       "      <td>5</td>\n",
       "      <td>6</td>\n",
       "      <td>7</td>\n",
       "    </tr>\n",
       "    <tr>\n",
       "      <th>NEW</th>\n",
       "      <td>8</td>\n",
       "      <td>9</td>\n",
       "      <td>10</td>\n",
       "      <td>11</td>\n",
       "    </tr>\n",
       "  </tbody>\n",
       "</table>\n",
       "</div>"
      ],
      "text/plain": [
       "         one  two  three  four\n",
       "INDIANA    0    1      2     3\n",
       "COLO       4    5      6     7\n",
       "NEW        8    9     10    11"
      ]
     },
     "execution_count": 85,
     "metadata": {},
     "output_type": "execute_result"
    }
   ],
   "source": [
    "data.rename(index={'OHIO': 'INDIANA'}, columns={'THREE': 'peekaboo'})"
   ]
  },
  {
   "cell_type": "code",
   "execution_count": 53,
   "metadata": {},
   "outputs": [],
   "source": [
    "data.rename(index={'OHIO': 'INDIANA'}, inplace=True)\n"
   ]
  },
  {
   "cell_type": "code",
   "execution_count": 87,
   "metadata": {},
   "outputs": [
    {
     "data": {
      "text/plain": [
       "[20, 22, 25, 27, 21, 23, 37, 31, 61, 45, 41, 32]"
      ]
     },
     "execution_count": 87,
     "metadata": {},
     "output_type": "execute_result"
    }
   ],
   "source": [
    "ages = [20, 22, 25, 27, 21, 23, 37, 31, 61, 45, 41, 32]\n",
    "ages\n"
   ]
  },
  {
   "cell_type": "code",
   "execution_count": 88,
   "metadata": {},
   "outputs": [],
   "source": [
    "bins = [18, 25, 35, 60, 100]\n"
   ]
  },
  {
   "cell_type": "code",
   "execution_count": 89,
   "metadata": {},
   "outputs": [
    {
     "data": {
      "text/plain": [
       "[(18, 25], (18, 25], (18, 25], (25, 35], (18, 25], ..., (25, 35], (60, 100], (35, 60], (35, 60], (25, 35]]\n",
       "Length: 12\n",
       "Categories (4, interval[int64, right]): [(18, 25] < (25, 35] < (35, 60] < (60, 100]]"
      ]
     },
     "execution_count": 89,
     "metadata": {},
     "output_type": "execute_result"
    }
   ],
   "source": [
    "cats = pd.cut(ages, bins) \n",
    "cats"
   ]
  },
  {
   "cell_type": "code",
   "execution_count": 90,
   "metadata": {},
   "outputs": [
    {
     "data": {
      "text/plain": [
       "array([0, 0, 0, 1, 0, 0, 2, 1, 3, 2, 2, 1], dtype=int8)"
      ]
     },
     "execution_count": 90,
     "metadata": {},
     "output_type": "execute_result"
    }
   ],
   "source": [
    "cats.codes\n"
   ]
  },
  {
   "cell_type": "code",
   "execution_count": 91,
   "metadata": {},
   "outputs": [
    {
     "data": {
      "text/plain": [
       "IntervalIndex([(18, 25], (25, 35], (35, 60], (60, 100]], dtype='interval[int64, right]')"
      ]
     },
     "execution_count": 91,
     "metadata": {},
     "output_type": "execute_result"
    }
   ],
   "source": [
    "cats.categories\n",
    "\n"
   ]
  },
  {
   "cell_type": "code",
   "execution_count": 92,
   "metadata": {},
   "outputs": [
    {
     "data": {
      "text/plain": [
       "(18, 25]     5\n",
       "(25, 35]     3\n",
       "(35, 60]     3\n",
       "(60, 100]    1\n",
       "dtype: int64"
      ]
     },
     "execution_count": 92,
     "metadata": {},
     "output_type": "execute_result"
    }
   ],
   "source": [
    "pd.value_counts(cats)\n"
   ]
  },
  {
   "cell_type": "code",
   "execution_count": 94,
   "metadata": {},
   "outputs": [
    {
     "data": {
      "text/plain": [
       "[[18, 26), [18, 26), [18, 26), [26, 36), [18, 26), ..., [26, 36), [61, 100), [36, 61), [36, 61), [26, 36)]\n",
       "Length: 12\n",
       "Categories (4, interval[int64, left]): [[18, 26) < [26, 36) < [36, 61) < [61, 100)]"
      ]
     },
     "execution_count": 94,
     "metadata": {},
     "output_type": "execute_result"
    }
   ],
   "source": [
    "pd.cut(ages, [18, 26, 36, 61, 100], right=False)\n"
   ]
  },
  {
   "cell_type": "code",
   "execution_count": 97,
   "metadata": {},
   "outputs": [
    {
     "data": {
      "text/plain": [
       "['Youth', 'Youth', 'Youth', 'YoungAdult', 'Youth', ..., 'YoungAdult', 'Senior', 'MiddleAged', 'MiddleAged', 'YoungAdult']\n",
       "Length: 12\n",
       "Categories (4, object): ['Youth' < 'YoungAdult' < 'MiddleAged' < 'Senior']"
      ]
     },
     "execution_count": 97,
     "metadata": {},
     "output_type": "execute_result"
    }
   ],
   "source": [
    "group_names = ['Youth', 'YoungAdult', 'MiddleAged', 'Senior']\n",
    "pd.cut(ages, bins, labels=group_names)"
   ]
  },
  {
   "cell_type": "code",
   "execution_count": 99,
   "metadata": {},
   "outputs": [
    {
     "data": {
      "text/plain": [
       "array([0.18430551, 0.33487785, 0.37877731, 0.46756898, 0.48634794,\n",
       "       0.11235613, 0.96389312, 0.70507106, 0.60656345, 0.0385564 ,\n",
       "       0.98519928, 0.86476443, 0.83638985, 0.05478048, 0.73365514,\n",
       "       0.80465347, 0.67550004, 0.92015545, 0.77853126, 0.02428193])"
      ]
     },
     "execution_count": 99,
     "metadata": {},
     "output_type": "execute_result"
    }
   ],
   "source": [
    "data = np.random.rand(20)\n",
    "data"
   ]
  },
  {
   "cell_type": "code",
   "execution_count": 105,
   "metadata": {},
   "outputs": [
    {
     "data": {
      "text/plain": [
       "IntervalIndex([(0.023, 0.26], (0.26, 0.5], (0.5, 0.74], (0.74, 0.99]], dtype='interval[float64, right]')"
      ]
     },
     "execution_count": 105,
     "metadata": {},
     "output_type": "execute_result"
    }
   ],
   "source": [
    "data1=pd.cut(data, 4, precision=2)\n",
    "data1.categories\n"
   ]
  },
  {
   "cell_type": "code",
   "execution_count": 108,
   "metadata": {},
   "outputs": [
    {
     "data": {
      "text/plain": [
       "array([ 3.12406310e-01, -8.12044621e-01, -2.67950933e-01, -4.25270190e-01,\n",
       "       -7.21278272e-02,  5.13312939e-01,  1.77163044e-01, -1.59637968e+00,\n",
       "       -1.05732777e+00,  5.66831689e-01, -6.92306539e-01, -1.21932142e+00,\n",
       "       -1.88677473e+00, -2.96537191e-02, -7.91470940e-01,  4.85781898e-01,\n",
       "       -1.62904834e+00,  7.99066541e-01,  8.62059638e-01,  8.15627011e-02,\n",
       "        1.13266195e+00, -2.58944406e-01,  1.22907845e+00,  1.35646254e+00,\n",
       "       -1.09564486e+00, -1.70823997e+00, -1.17499349e+00,  4.52459151e-02,\n",
       "       -3.88114020e-01,  8.50538896e-01, -1.75310566e+00, -9.80768557e-01,\n",
       "       -7.59664925e-01, -1.06990843e+00, -3.01765724e-02,  6.66618841e-01,\n",
       "        2.27488445e-01, -6.71540980e-01, -2.93416949e-01,  7.82917182e-01,\n",
       "       -3.50006612e-01, -8.65930198e-02, -2.68233224e-01,  4.58426566e-01,\n",
       "        2.13510527e+00,  1.60100743e+00, -1.30484747e-01, -7.18146366e-01,\n",
       "       -5.85624292e-01,  7.62721738e-01, -8.35783254e-01, -1.60263038e+00,\n",
       "       -1.03591348e+00, -2.55062140e-01, -3.55571430e-01, -5.28112612e-01,\n",
       "        1.16663897e+00, -1.25964194e+00,  5.52499300e-01, -5.68419549e-01,\n",
       "        8.71414452e-01,  1.53159489e-02,  4.86292772e-01, -5.33248998e-01,\n",
       "        6.94689703e-01,  6.99742309e-01, -2.43026589e+00, -9.76575265e-01,\n",
       "        7.10460804e-01,  8.96850141e-01,  2.54356803e+00, -7.21687961e-01,\n",
       "       -7.20683352e-01,  3.62011908e-03, -4.06015019e-01,  8.57244321e-01,\n",
       "       -6.59191451e-01, -1.71086678e-01,  7.03665772e-02,  1.87356605e+00,\n",
       "        3.14463965e-01, -5.55965882e-03,  5.61468260e-02, -1.89159104e-01,\n",
       "        4.60925152e-01, -1.41156247e+00, -1.61795791e+00,  2.32492476e+00,\n",
       "       -8.87929406e-01, -2.10705077e-01,  7.80759456e-01,  2.42741158e-01,\n",
       "       -1.11932508e+00,  5.09555275e-01, -1.25456382e+00, -1.36956304e+00,\n",
       "       -1.03454523e+00, -2.64416803e-02, -8.28139323e-01, -8.78311930e-01,\n",
       "       -2.59152407e-01, -4.37300292e-01,  8.26119710e-01, -8.96353628e-02,\n",
       "        1.09297257e+00, -7.91868230e-02,  2.78285525e-01,  3.91269460e-01,\n",
       "       -6.04419268e-01,  1.12208943e-01,  6.96535852e-01,  2.34483805e-01,\n",
       "        1.91954587e+00, -9.29836247e-01, -2.43091897e-02, -1.52169435e+00,\n",
       "        3.49358554e+00,  1.78353418e+00, -2.40466329e-01,  7.65101083e-01,\n",
       "       -6.67731766e-01,  8.72741460e-01,  6.89753283e-01,  1.20497706e+00,\n",
       "        1.68039956e-01,  1.02385261e+00,  2.05301013e-01,  9.02440997e-01,\n",
       "       -1.32216322e+00,  2.21381264e+00,  1.43656580e+00, -2.44421016e-01,\n",
       "       -6.73379190e-01, -1.11400978e-01,  4.58117500e-02,  1.23581823e+00,\n",
       "        3.38439294e+00,  5.73149014e-01, -1.10292753e+00, -5.12946306e-01,\n",
       "        8.30131901e-01,  3.96653113e-01,  1.33813574e-01,  2.16589776e-01,\n",
       "        1.94291108e-01,  1.14406194e-01, -7.37198578e-01, -1.22839721e+00,\n",
       "        8.84536552e-01, -6.05947441e-01,  1.04520969e-02, -5.55652716e-01,\n",
       "       -6.38176293e-01, -9.58221459e-01,  8.84157367e-02,  7.28859376e-01,\n",
       "        2.68330893e+00,  5.50694178e-01, -1.97858880e+00, -1.27368143e+00,\n",
       "        7.67441888e-01,  3.57308097e-01,  4.17537123e-01,  1.19675862e+00,\n",
       "       -8.15752758e-01,  6.13351221e-02, -3.39295839e-01,  3.10352249e-01,\n",
       "        7.20722642e-01,  3.65940311e-01, -6.69419290e-02, -3.22140592e-01,\n",
       "       -7.72028541e-01, -2.08772491e-01,  1.34139280e+00, -1.28211216e+00,\n",
       "        2.11070578e+00,  1.79587470e+00,  2.20047898e+00,  1.42975263e+00,\n",
       "        4.54542450e-01,  6.01758596e-01, -1.21308766e+00, -2.79244092e-01,\n",
       "        2.52662981e-01, -4.99433900e-01,  1.88057354e+00,  8.15933374e-01,\n",
       "       -1.40361278e+00, -6.27346097e-01,  6.80982996e-01, -3.92840971e-01,\n",
       "        1.02877614e+00, -1.75773636e+00, -3.63033932e-01, -1.36602204e+00,\n",
       "        1.55524919e+00,  4.28085776e-01,  1.69392926e+00,  6.30966266e-01,\n",
       "       -1.10846469e+00, -1.85203350e+00,  1.42630553e-01, -9.10818211e-01,\n",
       "       -1.42480085e+00,  1.45831604e-01,  6.73888446e-01,  1.70483316e+00,\n",
       "       -1.73596853e+00,  5.81282446e-01,  1.42652189e+00, -1.57470677e+00,\n",
       "       -3.43706679e-01, -1.19340435e+00, -1.09372122e-01,  4.04948402e-01,\n",
       "       -7.16932161e-02, -1.63988540e+00, -9.19810050e-01, -6.44523958e-01,\n",
       "        6.96199092e-01,  8.50296149e-01,  4.37280557e-02,  1.57175530e+00,\n",
       "        9.20864379e-02,  4.96405968e-01, -4.54077381e-01, -9.19372896e-01,\n",
       "       -7.64878765e-01, -4.66909743e-01,  1.05486286e+00,  1.48053377e+00,\n",
       "        8.79761033e-01,  4.34382785e-01, -7.27142932e-01,  9.46574134e-01,\n",
       "        3.73186892e-01, -1.67562705e+00, -1.11791250e+00, -4.93802132e-01,\n",
       "       -1.93919490e+00, -1.56718001e+00,  1.90269601e+00,  1.31819975e+00,\n",
       "        2.60284415e-01,  1.38877756e-01, -6.88494991e-01,  8.16470681e-01,\n",
       "        1.24809267e-01,  2.14691320e-01,  6.85089006e-01,  2.59324123e-01,\n",
       "       -4.40063498e-01, -8.35413083e-01,  2.32220052e-01,  1.34771173e+00,\n",
       "        1.62980912e-01,  1.22586136e-01,  8.36290962e-01,  9.61452829e-01,\n",
       "       -1.53617410e-02, -2.82615442e-01,  1.44704782e-01,  9.31174787e-01,\n",
       "        3.58784051e-01,  3.88087437e-01,  2.17258026e+00,  7.29302070e-01,\n",
       "        8.69039946e-01, -1.82764780e-01,  1.62881541e-01,  1.62167345e+00,\n",
       "       -1.31152979e+00,  2.16310326e-01, -1.71142881e-01,  1.09339930e+00,\n",
       "        1.30573138e+00, -1.13866676e+00, -1.62775668e+00, -2.67875405e-01,\n",
       "       -2.50120799e-01,  2.07007439e+00,  7.88787912e-01,  1.15233656e-01,\n",
       "       -1.23649464e+00, -9.33744650e-01,  1.96226872e+00,  1.82035457e-01,\n",
       "        2.50874162e-01, -7.50343058e-01,  4.82395902e-01, -9.58703025e-04,\n",
       "       -7.54023982e-01,  1.44050248e+00,  7.13023129e-01, -1.96593471e-01,\n",
       "       -2.57237804e-01, -7.43977720e-01,  5.48751572e-01, -1.01443473e+00,\n",
       "       -1.24505225e+00, -9.66731621e-02, -6.83318262e-01, -1.33100103e+00,\n",
       "       -9.19184619e-01,  1.17578559e+00, -2.94983084e-01, -1.00526147e+00,\n",
       "        3.08574245e-01,  2.46625512e-01,  3.92904604e-01,  2.45441483e-01,\n",
       "        5.43520860e-01,  1.33264215e+00, -7.56438025e-01, -5.01088711e-01,\n",
       "        7.61734828e-01, -8.01240517e-01,  2.27628869e-01, -4.18511308e-01,\n",
       "       -1.13856724e+00,  8.98459063e-01,  4.23167978e-01,  1.08331562e+00,\n",
       "       -2.84701686e-01,  2.50623328e+00,  1.13146297e+00,  8.04174488e-01,\n",
       "       -6.58919870e-01,  9.59169991e-01, -5.57892950e-01, -2.96123351e-01,\n",
       "        2.55584047e-01,  1.80045121e-01,  9.74341290e-01, -2.62172402e-01,\n",
       "        6.24124326e-01,  6.14148824e-01, -1.44694669e+00, -4.07000825e-01,\n",
       "       -1.30345428e-01, -1.38396430e+00, -1.98583658e-01, -1.26801967e-01,\n",
       "       -1.41265689e+00, -7.83988141e-01, -7.48418230e-01, -2.18003410e+00,\n",
       "       -8.32273402e-01,  2.09199283e-01, -4.80018465e-01, -8.54129655e-02,\n",
       "        4.10617843e-01,  1.26944177e+00,  1.12754662e+00,  1.89088188e+00,\n",
       "       -8.65659029e-01, -4.62601349e-02,  9.06770679e-01, -6.26250685e-01,\n",
       "        1.02831378e-01,  5.93581830e-01, -1.11577627e+00,  9.12530576e-02,\n",
       "        3.87317921e+00, -3.20832162e-02,  1.90119536e+00, -1.52240913e+00,\n",
       "       -6.19690876e-01,  2.51932550e+00, -4.10242567e-01, -1.98152124e+00,\n",
       "        5.68575582e-01,  1.93044869e-01, -7.22601798e-02, -3.25199987e-01,\n",
       "       -6.80899519e-01, -1.13408843e+00, -1.34708411e+00,  6.09281057e-01,\n",
       "       -1.26328169e+00, -3.31385884e-01,  3.98389176e-01,  5.32910387e-01,\n",
       "        9.51292548e-02, -2.25554603e-01,  1.02636125e-01,  3.48719614e-01,\n",
       "       -2.54259569e+00, -2.84019415e-01,  5.79830015e-01, -1.53191473e+00,\n",
       "        4.26931797e-01, -9.41626410e-01,  2.13155543e+00,  1.27173723e+00,\n",
       "        1.19877698e+00,  1.00260345e+00,  4.40422803e-02,  1.07283253e+00,\n",
       "       -3.79579695e-01, -1.61160448e+00,  1.15312817e-01,  6.62358823e-01,\n",
       "       -1.89686072e-01,  1.13969529e+00,  1.18337607e-01, -1.76393404e-01,\n",
       "        3.26332207e-01,  6.53286550e-01, -1.13388105e+00, -9.75497385e-01,\n",
       "       -1.54926655e+00, -1.78718786e-01, -7.01224893e-01,  8.87445465e-01,\n",
       "       -1.78269498e-01,  6.56878899e-01,  6.07588218e-01, -4.81315947e-01,\n",
       "        7.72092686e-01,  1.69959483e+00, -4.49427113e-01, -5.39072311e-01,\n",
       "        9.93769819e-01, -2.94200525e-01,  8.67259982e-01,  2.36072752e-01,\n",
       "        5.09653775e-01, -1.31518421e+00, -1.55811659e+00,  1.10401151e-01,\n",
       "       -4.97831702e-01, -3.76468142e-01, -2.65390620e-01,  8.98394290e-01,\n",
       "        1.28561604e+00,  2.28916428e+00,  6.73112232e-01, -1.08416998e-01,\n",
       "       -2.01197953e-01, -8.39275592e-01, -1.23948158e+00, -2.02131640e-01,\n",
       "       -2.71964935e-01, -9.95515706e-01,  3.50972121e-01, -1.22826507e+00,\n",
       "       -4.11090962e-01, -2.05048342e+00, -1.37122469e+00,  1.49726089e+00,\n",
       "       -1.56392480e+00, -3.98600236e-01, -4.00494739e-01, -6.46358446e-02,\n",
       "        4.90478286e-01, -6.38637167e-01,  3.08260252e-01, -1.14266562e+00,\n",
       "       -2.32984311e-01,  1.45615903e-01, -1.76271281e+00, -6.25969149e-01,\n",
       "       -4.91005074e-01, -1.26488927e+00, -3.05227015e-01,  6.86737688e-01,\n",
       "       -5.81816726e-01,  3.88320875e-01,  7.69541187e-01,  1.18478171e-01,\n",
       "        3.91354904e-01, -4.62879287e-01, -2.03040494e-01,  1.01760770e+00,\n",
       "       -2.88322292e-01, -1.80193516e-01, -6.74423213e-01, -9.59942626e-01,\n",
       "       -1.48253472e+00, -1.32776497e-02,  1.70643104e+00, -9.29833733e-01,\n",
       "       -5.04279318e-01, -5.94369502e-01,  1.03134407e+00,  2.99412277e+00,\n",
       "        1.37466079e+00,  1.15936403e+00, -1.08464696e+00,  1.41908176e-01,\n",
       "       -2.70292330e-01,  1.46046982e+00, -8.85404462e-01, -7.16505534e-02,\n",
       "        4.43559432e-01, -1.21085432e+00,  1.29097267e+00,  1.08464788e+00,\n",
       "        1.16314909e+00,  1.02891650e+00, -1.40719124e-02,  1.09064215e-02,\n",
       "       -1.45331060e+00, -2.98051715e-01, -7.63277129e-01, -8.68706155e-02,\n",
       "       -7.72637958e-01, -3.03011143e+00, -1.81994269e-01,  3.81571137e-01,\n",
       "       -3.91742316e-01, -7.09484517e-01, -2.13405539e-01,  2.21249043e+00,\n",
       "        3.80885054e-01, -1.08383784e-01,  1.26222692e+00,  3.96765311e-01,\n",
       "       -2.07970845e+00,  7.02572830e-02, -5.91528129e-01,  1.24660825e+00,\n",
       "       -1.09674143e+00, -1.65189109e+00, -8.07321586e-01,  2.86543970e-01,\n",
       "        6.34814606e-03,  5.13608549e-01,  9.67500901e-01,  5.56846333e-01,\n",
       "       -5.27306805e-01, -3.22094692e-01, -5.32209551e-01,  1.47212799e-02,\n",
       "        1.75463263e+00,  1.11007282e-01,  7.15868066e-01, -3.15475606e-01,\n",
       "       -1.53375093e-01,  1.62174238e-01,  1.01487690e+00, -3.29962286e-01,\n",
       "       -7.53890190e-01,  1.67937002e+00,  7.18934320e-01, -2.98523814e-02,\n",
       "        1.43717501e+00,  4.10133597e-01,  1.56558779e+00, -2.23678984e-01,\n",
       "        5.25742113e-01, -2.15560533e-01,  1.00483493e-01,  1.21535748e+00,\n",
       "        1.36371126e-01, -1.97486450e+00,  7.06493971e-01, -1.57270947e+00,\n",
       "        1.12484589e+00,  1.49206038e+00,  5.47192305e-01, -2.21456416e-01,\n",
       "       -1.28246245e+00, -1.54543788e+00,  1.45880508e+00, -9.32300941e-01,\n",
       "       -4.22976155e-01, -2.43167588e-01,  3.20419699e-01, -9.65573970e-01,\n",
       "        1.80500312e+00,  1.29308653e+00,  1.07423968e+00,  1.58850489e+00,\n",
       "       -2.40096700e-01, -9.54125932e-01,  2.12088577e+00, -1.33361939e+00,\n",
       "       -1.61251549e+00,  1.54054479e+00, -4.69717418e-01, -2.62918526e+00,\n",
       "       -2.10097669e+00,  2.65058218e-01, -1.12131511e+00, -7.64231329e-02,\n",
       "        8.46981711e-01,  8.87199335e-02,  4.72262645e-01, -1.07234280e+00,\n",
       "       -1.20933164e+00,  2.08134596e+00,  1.76362146e+00, -1.49293847e+00,\n",
       "        5.33904579e-01, -4.04851053e-01, -3.66269499e-01,  1.29541452e-01,\n",
       "       -2.25303616e+00,  2.66144906e-01,  7.65888587e-02,  5.38203841e-01,\n",
       "       -1.61035071e+00, -2.21079410e-01,  1.03380275e+00,  4.99486374e-02,\n",
       "        1.68437306e+00, -1.21189880e+00, -1.30937396e+00,  2.73238545e-01,\n",
       "        1.36696694e+00,  1.38208342e+00, -7.48067554e-02, -4.93352080e-01,\n",
       "       -1.44776449e+00,  1.54149061e+00, -1.88269851e+00, -6.91385136e-01,\n",
       "        4.31244101e-01, -4.61084320e-01,  1.50133130e-01, -4.46924414e-02,\n",
       "        7.57793610e-01,  8.32555042e-02, -4.98688295e-01, -8.26857459e-01,\n",
       "       -1.95702615e-02, -1.11850756e+00,  5.86755942e-01, -2.46586389e+00,\n",
       "       -9.52819131e-01, -2.54314288e+00,  2.02058370e-01, -2.10069213e-01,\n",
       "       -1.85231395e+00, -2.19193450e-01, -5.12842942e-02,  1.49047363e+00,\n",
       "        1.35330614e+00, -7.11835976e-01,  2.21036813e-01, -4.14300518e-01,\n",
       "        2.08394733e+00,  9.39646407e-01,  2.95487123e-01,  1.01598544e+00,\n",
       "       -6.44409850e-01, -4.65588852e-02,  7.12206338e-02,  8.51975033e-01,\n",
       "       -9.26626878e-01,  7.89916220e-01,  9.15222537e-01, -7.60708202e-01,\n",
       "        1.28124715e+00,  6.41709507e-01,  1.27213277e+00, -1.25133150e-01,\n",
       "       -8.53723620e-01, -2.69215875e-01,  7.18371644e-01,  2.48606432e-01,\n",
       "       -4.45076383e-01, -9.79778904e-02,  8.48192353e-01,  1.67842900e+00,\n",
       "        3.80975885e-01, -8.11634736e-02, -1.01116148e+00,  5.23469371e-01,\n",
       "       -1.89984489e+00,  4.31319620e-01,  2.32327647e+00,  7.95227462e-01,\n",
       "       -1.01024464e+00, -4.13215974e-01, -1.28261280e+00, -9.40466094e-01,\n",
       "        1.22602373e+00,  8.27773587e-01,  3.02077605e-01,  2.67505265e-01,\n",
       "       -5.16656393e-01,  1.01117099e+00, -1.26251606e+00, -3.44430642e-01,\n",
       "       -1.43305376e-01,  2.04649444e+00, -1.05864620e+00, -1.63659930e+00,\n",
       "       -3.58122736e-01, -5.08945642e-01,  1.18385266e+00,  4.55272828e-01,\n",
       "       -2.44937892e-01, -4.05378743e-01, -2.71815739e-01,  9.28136263e-01,\n",
       "        8.77672939e-01, -2.91168279e-04,  3.88145745e-01, -3.49976812e-01,\n",
       "       -8.72947029e-01,  8.58458633e-01,  5.19730697e-01, -7.00490164e-01,\n",
       "        6.68959868e-01, -1.28959086e+00,  4.44275161e-01, -1.54169938e-01,\n",
       "        1.57538067e+00, -1.00117817e-01,  9.69737893e-01,  4.67236036e-01,\n",
       "       -2.54013616e+00,  1.94193800e+00, -4.04683723e-01,  7.57743923e-01,\n",
       "       -1.06762528e+00,  1.45918417e+00, -1.11646937e+00, -9.43851191e-01,\n",
       "        9.75609346e-01, -7.34663305e-01,  6.60883691e-01,  9.00097546e-01,\n",
       "       -6.83172985e-01, -3.16117159e-01,  1.37158123e+00, -2.01030853e+00,\n",
       "        1.05808823e+00,  3.58302619e-01,  1.73347811e+00, -3.59524739e-01,\n",
       "        6.30349793e-01,  1.86915473e-01, -6.22069989e-01, -1.80327850e+00,\n",
       "        5.49012559e-01, -5.98976108e-01, -2.10167810e+00, -2.76604862e-01,\n",
       "        7.80520809e-01, -3.24013659e-01,  1.05363040e-02,  1.97797983e+00,\n",
       "        2.13409330e-01, -7.10924457e-02,  1.87064478e+00, -6.07420552e-02,\n",
       "       -6.54880433e-01,  8.55508227e-01, -1.37605307e-01,  8.65670090e-01,\n",
       "       -2.55531025e-01,  1.34425902e-02,  6.06291172e-01,  1.08431509e-01,\n",
       "        1.32271817e-02,  1.00460125e+00, -1.23380956e+00, -9.78185151e-01,\n",
       "       -1.09542606e-01,  1.38332963e+00, -9.46017967e-01, -5.28200615e-01,\n",
       "        3.37899252e-01, -3.06286310e-01, -1.04515883e+00, -5.36065004e-01,\n",
       "       -1.70889748e-01,  2.98049346e-01, -6.94417635e-01,  6.50982776e-01,\n",
       "        1.08853067e+00, -1.14320996e-01,  3.27576283e-03, -3.84716505e-01,\n",
       "        8.13849453e-01,  4.41110235e-01,  8.58796928e-01,  1.00186365e-01,\n",
       "        1.53964508e+00,  3.72625079e-02, -3.40443447e-01, -8.17367617e-01,\n",
       "        8.81858206e-01,  3.10223522e-01, -8.04484689e-01, -1.81700865e+00,\n",
       "       -9.80156911e-01,  5.71849708e-02, -1.20081132e+00,  3.92091358e-01,\n",
       "        1.48331661e+00, -6.64866954e-01, -1.02763629e+00,  3.07049890e-01,\n",
       "       -5.44253949e-01, -2.82185110e-01,  9.32480399e-01,  7.94534021e-01,\n",
       "        1.07470304e+00,  1.55253385e-01,  1.17687439e-01,  8.85952927e-01,\n",
       "        1.31111283e+00, -3.52194436e+00,  6.78169609e-01, -1.04162265e+00,\n",
       "        1.97328303e+00,  1.32731504e+00,  1.50684755e-02,  3.84330367e-01,\n",
       "        3.68420834e-01,  3.96944942e-01,  4.68403898e-01, -7.22347223e-01,\n",
       "       -1.31605367e+00,  1.35513908e+00, -9.81570871e-01,  9.47715574e-01,\n",
       "        2.29969275e-02,  9.26526843e-01, -6.68219492e-01,  4.47852499e-01,\n",
       "        5.19028619e-01,  3.37985547e-02, -6.40511120e-01, -6.36708180e-01,\n",
       "        2.42824325e+00,  7.50279854e-01,  3.40544518e-01,  1.64416083e+00,\n",
       "        5.74594239e-02,  1.06962349e+00, -1.97713645e-01,  7.28596848e-01,\n",
       "       -9.78115076e-01,  3.70886489e-01,  1.64326350e-02, -1.29085615e-01,\n",
       "        2.33776504e+00,  1.64681975e-01,  4.87437288e-01,  7.49444303e-01,\n",
       "        2.55651118e-01, -4.51640419e-01,  1.15625421e-01,  7.72758607e-01,\n",
       "       -6.26648737e-01,  9.22809143e-01, -9.47040962e-01,  1.04258653e+00,\n",
       "       -1.91344206e+00, -1.17535213e+00, -1.54865672e+00,  1.62658700e-01,\n",
       "        7.72287348e-02, -2.40630202e-02, -1.17847303e+00,  4.30266572e-01,\n",
       "       -1.68186331e+00,  7.55447187e-01,  5.62835764e-01,  1.41044110e+00,\n",
       "       -6.99890748e-01,  1.67258447e+00,  3.08753938e-02,  1.24484310e+00,\n",
       "        7.06291428e-01, -1.62972963e+00, -5.53783762e-01,  7.20660756e-01,\n",
       "        1.82194012e+00,  6.89951393e-01,  2.51235630e-01, -3.04753669e-01,\n",
       "        1.48809072e-02,  7.08269256e-01, -1.21437917e+00, -1.09322518e+00,\n",
       "        2.00988992e-01,  5.81744335e-01,  2.80029944e-02,  1.91766889e-01,\n",
       "       -3.79409662e-01, -1.12518194e-01, -5.58589856e-01,  5.99645268e-01,\n",
       "       -1.63846228e+00,  1.20178948e+00, -1.93274387e+00,  3.83932611e-01,\n",
       "        1.30232160e+00, -2.00380589e+00,  4.74816205e-01,  2.93832261e-01,\n",
       "        4.86317352e-01,  5.07033187e-02,  6.93526742e-02, -2.22752356e+00,\n",
       "       -5.20071434e-01,  7.54374123e-01,  5.24966526e-01,  1.80199477e-01,\n",
       "       -4.23889585e-01,  1.23243405e+00,  9.92249398e-01,  5.10503667e-01,\n",
       "        2.92491383e-04,  9.01856079e-01,  1.88043741e+00,  4.71546218e-01,\n",
       "        1.83872411e+00,  2.07275965e-02,  5.01837378e-01,  5.10487601e-01,\n",
       "       -7.27588273e-01,  1.81781968e+00, -6.62452895e-02, -8.38663962e-02,\n",
       "       -1.27063675e-01,  3.91183055e-02, -1.16334282e+00,  1.48846892e+00,\n",
       "       -2.18485430e+00, -2.11384693e+00, -1.16743331e+00, -7.14345285e-01,\n",
       "       -1.35359813e+00, -4.74646613e-01, -9.03884794e-01, -5.13845178e-01,\n",
       "        2.53601997e+00, -9.42810013e-01,  4.24997949e-01, -9.30978502e-01,\n",
       "        1.69986218e+00,  6.92396901e-01,  1.27794638e+00,  5.89230185e-01,\n",
       "       -1.80044432e+00,  9.75868983e-01, -7.53264452e-01,  1.01461224e+00,\n",
       "       -4.85452715e-01, -7.13937485e-01,  3.52090384e-02, -6.53748388e-01,\n",
       "       -2.27573516e-01,  1.46144412e+00,  1.84169377e+00,  1.14824964e+00,\n",
       "       -1.28571894e+00,  1.81249741e+00,  5.33678646e-01,  4.81340028e-01,\n",
       "       -1.62768492e+00, -1.06423988e+00,  2.53796826e-01, -7.08372971e-02,\n",
       "       -4.86606783e-01,  1.39859837e+00, -5.95315161e-02,  2.14823979e-01,\n",
       "        4.47189010e-01,  1.65149394e-01,  2.00402177e+00, -1.22805157e+00,\n",
       "        6.77607067e-03,  3.87606923e-01, -1.66407283e-01,  1.67589254e-02,\n",
       "        7.78273093e-01,  8.86207203e-01, -6.26191083e-01,  3.00682726e-01,\n",
       "       -1.14148432e+00, -7.97995679e-01, -1.08557213e+00,  1.18203233e+00,\n",
       "        7.34623841e-01,  3.22764177e-01,  3.84029372e-01,  1.66964329e-01,\n",
       "        6.69216423e-01,  2.32755122e-01, -2.40341222e-01, -1.20608803e+00,\n",
       "       -6.36068241e-01,  1.83731265e+00, -9.73828990e-01, -8.16979441e-01,\n",
       "       -1.02146724e+00,  1.64226496e+00, -1.48052712e+00,  6.28241930e-01])"
      ]
     },
     "execution_count": 108,
     "metadata": {},
     "output_type": "execute_result"
    }
   ],
   "source": [
    "data = np.random.randn(1000) # Normally distributed\n",
    "data"
   ]
  },
  {
   "cell_type": "code",
   "execution_count": 110,
   "metadata": {},
   "outputs": [
    {
     "data": {
      "text/plain": [
       "array([2, 0, 1, 1, 1, 2, 2, 0, 0, 2, 0, 0, 0, 1, 0, 2, 0, 3, 3, 2, 3, 1,\n",
       "       3, 3, 0, 0, 0, 2, 1, 3, 0, 0, 0, 0, 1, 2, 2, 0, 1, 3, 1, 1, 1, 2,\n",
       "       3, 3, 1, 0, 1, 3, 0, 0, 0, 1, 1, 1, 3, 0, 2, 1, 3, 1, 2, 1, 2, 2,\n",
       "       0, 0, 3, 3, 3, 0, 0, 1, 1, 3, 0, 1, 2, 3, 2, 1, 2, 1, 2, 0, 0, 3,\n",
       "       0, 1, 3, 2, 0, 2, 0, 0, 0, 1, 0, 0, 1, 1, 3, 1, 3, 1, 2, 2, 1, 2,\n",
       "       2, 2, 3, 0, 1, 0, 3, 3, 1, 3, 0, 3, 2, 3, 2, 3, 2, 3, 0, 3, 3, 1,\n",
       "       0, 1, 2, 3, 3, 2, 0, 1, 3, 2, 2, 2, 2, 2, 0, 0, 3, 1, 1, 1, 1, 0,\n",
       "       2, 3, 3, 2, 0, 0, 3, 2, 2, 3, 0, 2, 1, 2, 3, 2, 1, 1, 0, 1, 3, 0,\n",
       "       3, 3, 3, 3, 2, 2, 0, 1, 2, 1, 3, 3, 0, 1, 2, 1, 3, 0, 1, 0, 3, 2,\n",
       "       3, 2, 0, 0, 2, 0, 0, 2, 2, 3, 0, 2, 3, 0, 1, 0, 1, 2, 1, 0, 0, 1,\n",
       "       2, 3, 2, 3, 2, 2, 1, 0, 0, 1, 3, 3, 3, 2, 0, 3, 2, 0, 0, 1, 0, 0,\n",
       "       3, 3, 2, 2, 0, 3, 2, 2, 2, 2, 1, 0, 2, 3, 2, 2, 3, 3, 1, 1, 2, 3,\n",
       "       2, 2, 3, 3, 3, 1, 2, 3, 0, 2, 1, 3, 3, 0, 0, 1, 1, 3, 3, 2, 0, 0,\n",
       "       3, 2, 2, 0, 2, 1, 0, 3, 3, 1, 1, 0, 2, 0, 0, 1, 0, 0, 0, 3, 1, 0,\n",
       "       2, 2, 2, 2, 2, 3, 0, 1, 3, 0, 2, 1, 0, 3, 2, 3, 1, 3, 3, 3, 1, 3,\n",
       "       1, 1, 2, 2, 3, 1, 2, 2, 0, 1, 1, 0, 1, 1, 0, 0, 0, 0, 0, 2, 1, 1,\n",
       "       2, 3, 3, 3, 0, 1, 3, 1, 2, 2, 0, 2, 3, 1, 3, 0, 1, 3, 1, 0, 2, 2,\n",
       "       1, 1, 0, 0, 0, 2, 0, 1, 2, 2, 2, 1, 2, 2, 0, 1, 2, 0, 2, 0, 3, 3,\n",
       "       3, 3, 2, 3, 1, 0, 2, 2, 1, 3, 2, 1, 2, 2, 0, 0, 0, 1, 0, 3, 1, 2,\n",
       "       2, 1, 3, 3, 1, 1, 3, 1, 3, 2, 2, 0, 0, 2, 1, 1, 1, 3, 3, 3, 2, 1,\n",
       "       1, 0, 0, 1, 1, 0, 2, 0, 1, 0, 0, 3, 0, 1, 1, 1, 2, 1, 2, 0, 1, 2,\n",
       "       0, 1, 1, 0, 1, 2, 1, 2, 3, 2, 2, 1, 1, 3, 1, 1, 0, 0, 0, 1, 3, 0,\n",
       "       1, 1, 3, 3, 3, 3, 0, 2, 1, 3, 0, 1, 2, 0, 3, 3, 3, 3, 1, 1, 0, 1,\n",
       "       0, 1, 0, 0, 1, 2, 1, 0, 1, 3, 2, 1, 3, 2, 0, 2, 1, 3, 0, 0, 0, 2,\n",
       "       1, 2, 3, 2, 1, 1, 1, 1, 3, 2, 3, 1, 1, 2, 3, 1, 0, 3, 3, 1, 3, 2,\n",
       "       3, 1, 2, 1, 2, 3, 2, 0, 2, 0, 3, 3, 2, 1, 0, 0, 3, 0, 1, 1, 2, 0,\n",
       "       3, 3, 3, 3, 1, 0, 3, 0, 0, 3, 1, 0, 0, 2, 0, 1, 3, 2, 2, 0, 0, 3,\n",
       "       3, 0, 2, 1, 1, 2, 0, 2, 2, 2, 0, 1, 3, 2, 3, 0, 0, 2, 3, 3, 1, 1,\n",
       "       0, 3, 0, 0, 2, 1, 2, 1, 3, 2, 1, 0, 1, 0, 2, 0, 0, 0, 2, 1, 0, 1,\n",
       "       1, 3, 3, 0, 2, 1, 3, 3, 2, 3, 1, 1, 2, 3, 0, 3, 3, 0, 3, 2, 3, 1,\n",
       "       0, 1, 3, 2, 1, 1, 3, 3, 2, 1, 0, 2, 0, 2, 3, 3, 0, 1, 0, 0, 3, 3,\n",
       "       2, 2, 1, 3, 0, 1, 1, 3, 0, 0, 1, 1, 3, 2, 1, 1, 1, 3, 3, 1, 2, 1,\n",
       "       0, 3, 2, 0, 2, 0, 2, 1, 3, 1, 3, 2, 0, 3, 1, 3, 0, 3, 0, 0, 3, 0,\n",
       "       2, 3, 0, 1, 3, 0, 3, 2, 3, 1, 2, 2, 1, 0, 2, 1, 0, 1, 3, 1, 1, 3,\n",
       "       2, 1, 3, 1, 1, 3, 1, 3, 1, 1, 2, 2, 1, 3, 0, 0, 1, 3, 0, 1, 2, 1,\n",
       "       0, 1, 1, 2, 0, 2, 3, 1, 1, 1, 3, 2, 3, 2, 3, 2, 1, 0, 3, 2, 0, 0,\n",
       "       0, 2, 0, 2, 3, 0, 0, 2, 1, 1, 3, 3, 3, 2, 2, 3, 3, 0, 2, 0, 3, 3,\n",
       "       1, 2, 2, 2, 2, 0, 0, 3, 0, 3, 1, 3, 0, 2, 2, 2, 1, 1, 3, 3, 2, 3,\n",
       "       2, 3, 1, 3, 0, 2, 1, 1, 3, 2, 2, 3, 2, 1, 2, 3, 1, 3, 0, 3, 0, 0,\n",
       "       0, 2, 2, 1, 0, 2, 0, 3, 2, 3, 0, 3, 1, 3, 2, 0, 1, 3, 3, 2, 2, 1,\n",
       "       1, 3, 0, 0, 2, 2, 1, 2, 1, 1, 1, 2, 0, 3, 0, 2, 3, 0, 2, 2, 2, 2,\n",
       "       2, 0, 1, 3, 2, 2, 1, 3, 3, 2, 1, 3, 3, 2, 3, 1, 2, 2, 0, 3, 1, 1,\n",
       "       1, 2, 0, 3, 0, 0, 0, 0, 0, 1, 0, 1, 3, 0, 2, 0, 3, 2, 3, 2, 0, 3,\n",
       "       0, 3, 1, 0, 2, 1, 1, 3, 3, 3, 0, 3, 2, 2, 0, 0, 2, 1, 1, 3, 1, 2,\n",
       "       2, 2, 3, 0, 1, 2, 1, 1, 3, 3, 1, 2, 0, 0, 0, 3, 3, 2, 2, 2, 2, 2,\n",
       "       1, 0, 1, 3, 0, 0, 0, 3, 0, 2], dtype=int8)"
      ]
     },
     "execution_count": 110,
     "metadata": {},
     "output_type": "execute_result"
    }
   ],
   "source": [
    "cats = pd.qcut(data, 4) # Cut into quartiles\n",
    "cats.codes"
   ]
  },
  {
   "cell_type": "code",
   "execution_count": 115,
   "metadata": {},
   "outputs": [
    {
     "data": {
      "text/plain": [
       "(-1.24, 0.0323]                 400\n",
       "(0.0323, 1.328]                 400\n",
       "(-3.5229999999999997, -1.24]    100\n",
       "(1.328, 3.873]                  100\n",
       "dtype: int64"
      ]
     },
     "execution_count": 115,
     "metadata": {},
     "output_type": "execute_result"
    }
   ],
   "source": [
    "x=pd.qcut(data, [0, 0.1, 0.5, 0.9, 1.])\n",
    "pd.value_counts(x)\n"
   ]
  }
 ],
 "metadata": {
  "interpreter": {
   "hash": "ecf5722fdaf1897a315d257d89d94520bfcaa453217d5becf09b39e73618b0de"
  },
  "kernelspec": {
   "display_name": "Python 3.9.7 64-bit ('base': conda)",
   "language": "python",
   "name": "python3"
  },
  "language_info": {
   "codemirror_mode": {
    "name": "ipython",
    "version": 3
   },
   "file_extension": ".py",
   "mimetype": "text/x-python",
   "name": "python",
   "nbconvert_exporter": "python",
   "pygments_lexer": "ipython3",
   "version": "3.9.7"
  },
  "orig_nbformat": 4
 },
 "nbformat": 4,
 "nbformat_minor": 2
}
